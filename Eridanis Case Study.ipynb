{
 "cells": [
  {
   "cell_type": "markdown",
   "metadata": {},
   "source": [
    "Ce notebook a pour objectif de créer un modèle prédictif du prix d'un appartement à partir des données Demandes de Valeurs Foncières (DVF) mises à disposition par le Ministère de l'Economie et des Finances.  \n",
    "Les données viennent de https://www.data.gouv.fr/fr/datasets/demandes-de-valeurs-foncieres/#resources"
   ]
  },
  {
   "cell_type": "markdown",
   "metadata": {},
   "source": [
    "### Imports"
   ]
  },
  {
   "cell_type": "code",
   "execution_count": 1,
   "metadata": {},
   "outputs": [],
   "source": [
    "import os\n",
    "import time\n",
    "\n",
    "import numpy as np\n",
    "import pandas as pd\n",
    "\n",
    "import seaborn as sns\n",
    "import matplotlib.pyplot as plt\n",
    "\n",
    "import category_encoders as ce\n",
    "from collections import Counter\n",
    "\n",
    "from sklearn import linear_model\n",
    "import sklearn.metrics as metrics\n",
    "from sklearn import preprocessing\n",
    "from sklearn.neural_network import MLPRegressor\n",
    "from sklearn.model_selection import train_test_split\n",
    "from sklearn.compose import TransformedTargetRegressor\n",
    "from sklearn.ensemble import AdaBoostRegressor, BaggingRegressor, RandomForestRegressor"
   ]
  },
  {
   "cell_type": "code",
   "execution_count": 2,
   "metadata": {},
   "outputs": [],
   "source": [
    "np.set_printoptions(precision=4)"
   ]
  },
  {
   "cell_type": "code",
   "execution_count": 3,
   "metadata": {},
   "outputs": [],
   "source": [
    "def metric_and_plot(preds, y_test, score=True):\n",
    "    \"\"\"\n",
    "    Function that runs typical evaluation methods.\n",
    "    Plot y_true vs y_pred\n",
    "    Get score, R², MAE, MSE\n",
    "    Parameters:\n",
    "        - preds: model predictions\n",
    "        - y_test: observations of the target variable in the test set\n",
    "    \"\"\"\n",
    "    print(f\"MAE : {metrics.mean_absolute_error(y_test, preds)}\")\n",
    "    print(f\"MSE : {metrics.mean_squared_error(y_test, preds)}\")\n",
    "    if score:\n",
    "        print(f\"R² : {metrics.r2_score(y_test, preds)}\")\n",
    "    \n",
    "    plt.scatter(preds, y_test)\n",
    "    plt.xlabel(\"Prédictions (valeur foncière)\")\n",
    "    plt.ylabel(\"Valeur réelle (valeur foncière)\")\n",
    "    plt.title(\"Prédictions des valeurs foncières\")\n",
    "    plt.show()"
   ]
  },
  {
   "cell_type": "markdown",
   "metadata": {},
   "source": [
    "### Convertir les .txt en .csv"
   ]
  },
  {
   "cell_type": "code",
   "execution_count": 4,
   "metadata": {},
   "outputs": [
    {
     "name": "stdout",
     "output_type": "stream",
     "text": [
      "Conversion en csv déjà faite pour valeursfoncieres-2018.txt\n",
      "Conversion en csv déjà faite pour valeursfoncieres-2019.txt\n",
      "Conversion en csv déjà faite pour valeursfoncieres-2020.txt\n"
     ]
    }
   ],
   "source": [
    "fileList = os.listdir()\n",
    "for filename in fileList:\n",
    "    if \".txt\" in filename:\n",
    "        if filename[:-3]+\"csv\" in fileList:\n",
    "            print(f\"Conversion en csv déjà faite pour {filename}\")\n",
    "        else:\n",
    "            print(f\"Convert {filename} to csv\")\n",
    "            read_file = pd.read_csv(filename, sep='|')\n",
    "            read_file.to_csv(filename[:-3]+\"csv\", index=None)"
   ]
  },
  {
   "cell_type": "markdown",
   "metadata": {},
   "source": [
    "### Chargement des données"
   ]
  },
  {
   "cell_type": "code",
   "execution_count": 5,
   "metadata": {},
   "outputs": [
    {
     "name": "stderr",
     "output_type": "stream",
     "text": [
      "C:\\Users\\Gremy Trullier\\anaconda3\\lib\\site-packages\\IPython\\core\\interactiveshell.py:3071: DtypeWarning: Columns (18,23,24,26,28,29,31,32,33,41) have mixed types.Specify dtype option on import or set low_memory=False.\n",
      "  has_raised = await self.run_ast_nodes(code_ast.body, cell_name,\n"
     ]
    }
   ],
   "source": [
    "csv2018 = pd.read_csv(\"valeursfoncieres-2018.csv\")"
   ]
  },
  {
   "cell_type": "code",
   "execution_count": 6,
   "metadata": {},
   "outputs": [
    {
     "name": "stderr",
     "output_type": "stream",
     "text": [
      "C:\\Users\\Gremy Trullier\\anaconda3\\lib\\site-packages\\IPython\\core\\interactiveshell.py:3071: DtypeWarning: Columns (18,23,24,26,28,29,31,33,41) have mixed types.Specify dtype option on import or set low_memory=False.\n",
      "  has_raised = await self.run_ast_nodes(code_ast.body, cell_name,\n"
     ]
    }
   ],
   "source": [
    "csv2019 = pd.read_csv(\"valeursfoncieres-2019.csv\")"
   ]
  },
  {
   "cell_type": "code",
   "execution_count": 7,
   "metadata": {},
   "outputs": [
    {
     "name": "stderr",
     "output_type": "stream",
     "text": [
      "C:\\Users\\Gremy Trullier\\anaconda3\\lib\\site-packages\\IPython\\core\\interactiveshell.py:3071: DtypeWarning: Columns (18,23,24,26,28,31,33,41) have mixed types.Specify dtype option on import or set low_memory=False.\n",
      "  has_raised = await self.run_ast_nodes(code_ast.body, cell_name,\n"
     ]
    }
   ],
   "source": [
    "csv2020 = pd.read_csv(\"valeursfoncieres-2020.csv\")"
   ]
  },
  {
   "cell_type": "markdown",
   "metadata": {},
   "source": [
    "### Concatenation des données"
   ]
  },
  {
   "cell_type": "markdown",
   "metadata": {},
   "source": [
    "Avant de fusionner les données des 3 années, il faut vérifier que les colonnes et les dtypes soient similaires."
   ]
  },
  {
   "cell_type": "code",
   "execution_count": 8,
   "metadata": {},
   "outputs": [
    {
     "data": {
      "text/plain": [
       "True"
      ]
     },
     "execution_count": 8,
     "metadata": {},
     "output_type": "execute_result"
    }
   ],
   "source": [
    "csv2018.columns.all() == csv2019.columns.all() == csv2020.columns.all()\n",
    "# columns are the same"
   ]
  },
  {
   "cell_type": "code",
   "execution_count": 9,
   "metadata": {
    "scrolled": true
   },
   "outputs": [
    {
     "data": {
      "text/plain": [
       "Code service CH                True\n",
       "Reference document             True\n",
       "1 Articles CGI                 True\n",
       "2 Articles CGI                 True\n",
       "3 Articles CGI                 True\n",
       "4 Articles CGI                 True\n",
       "5 Articles CGI                 True\n",
       "No disposition                 True\n",
       "Date mutation                  True\n",
       "Nature mutation                True\n",
       "Valeur fonciere                True\n",
       "No voie                        True\n",
       "B/T/Q                          True\n",
       "Type de voie                   True\n",
       "Code voie                      True\n",
       "Voie                           True\n",
       "Code postal                    True\n",
       "Commune                        True\n",
       "Code departement               True\n",
       "Code commune                   True\n",
       "Prefixe de section             True\n",
       "Section                        True\n",
       "No plan                        True\n",
       "No Volume                      True\n",
       "1er lot                        True\n",
       "Surface Carrez du 1er lot      True\n",
       "2eme lot                       True\n",
       "Surface Carrez du 2eme lot     True\n",
       "3eme lot                       True\n",
       "Surface Carrez du 3eme lot     True\n",
       "4eme lot                       True\n",
       "Surface Carrez du 4eme lot     True\n",
       "5eme lot                      False\n",
       "Surface Carrez du 5eme lot     True\n",
       "Nombre de lots                 True\n",
       "Code type local                True\n",
       "Type local                     True\n",
       "Identifiant local              True\n",
       "Surface reelle bati            True\n",
       "Nombre pieces principales      True\n",
       "Nature culture                 True\n",
       "Nature culture speciale        True\n",
       "Surface terrain                True\n",
       "dtype: bool"
      ]
     },
     "execution_count": 9,
     "metadata": {},
     "output_type": "execute_result"
    }
   ],
   "source": [
    "csv2018.dtypes == csv2019.dtypes"
   ]
  },
  {
   "cell_type": "code",
   "execution_count": 10,
   "metadata": {
    "scrolled": true
   },
   "outputs": [
    {
     "data": {
      "text/plain": [
       "Code service CH                True\n",
       "Reference document             True\n",
       "1 Articles CGI                 True\n",
       "2 Articles CGI                 True\n",
       "3 Articles CGI                 True\n",
       "4 Articles CGI                 True\n",
       "5 Articles CGI                 True\n",
       "No disposition                 True\n",
       "Date mutation                  True\n",
       "Nature mutation                True\n",
       "Valeur fonciere                True\n",
       "No voie                        True\n",
       "B/T/Q                          True\n",
       "Type de voie                   True\n",
       "Code voie                      True\n",
       "Voie                           True\n",
       "Code postal                    True\n",
       "Commune                        True\n",
       "Code departement               True\n",
       "Code commune                   True\n",
       "Prefixe de section             True\n",
       "Section                        True\n",
       "No plan                        True\n",
       "No Volume                      True\n",
       "1er lot                        True\n",
       "Surface Carrez du 1er lot      True\n",
       "2eme lot                       True\n",
       "Surface Carrez du 2eme lot     True\n",
       "3eme lot                       True\n",
       "Surface Carrez du 3eme lot     True\n",
       "4eme lot                       True\n",
       "Surface Carrez du 4eme lot     True\n",
       "5eme lot                      False\n",
       "Surface Carrez du 5eme lot     True\n",
       "Nombre de lots                 True\n",
       "Code type local                True\n",
       "Type local                     True\n",
       "Identifiant local              True\n",
       "Surface reelle bati            True\n",
       "Nombre pieces principales      True\n",
       "Nature culture                 True\n",
       "Nature culture speciale        True\n",
       "Surface terrain                True\n",
       "dtype: bool"
      ]
     },
     "execution_count": 10,
     "metadata": {},
     "output_type": "execute_result"
    }
   ],
   "source": [
    "csv2018.dtypes == csv2020.dtypes"
   ]
  },
  {
   "cell_type": "code",
   "execution_count": 11,
   "metadata": {
    "scrolled": true
   },
   "outputs": [
    {
     "data": {
      "text/plain": [
       "Code service CH               True\n",
       "Reference document            True\n",
       "1 Articles CGI                True\n",
       "2 Articles CGI                True\n",
       "3 Articles CGI                True\n",
       "4 Articles CGI                True\n",
       "5 Articles CGI                True\n",
       "No disposition                True\n",
       "Date mutation                 True\n",
       "Nature mutation               True\n",
       "Valeur fonciere               True\n",
       "No voie                       True\n",
       "B/T/Q                         True\n",
       "Type de voie                  True\n",
       "Code voie                     True\n",
       "Voie                          True\n",
       "Code postal                   True\n",
       "Commune                       True\n",
       "Code departement              True\n",
       "Code commune                  True\n",
       "Prefixe de section            True\n",
       "Section                       True\n",
       "No plan                       True\n",
       "No Volume                     True\n",
       "1er lot                       True\n",
       "Surface Carrez du 1er lot     True\n",
       "2eme lot                      True\n",
       "Surface Carrez du 2eme lot    True\n",
       "3eme lot                      True\n",
       "Surface Carrez du 3eme lot    True\n",
       "4eme lot                      True\n",
       "Surface Carrez du 4eme lot    True\n",
       "5eme lot                      True\n",
       "Surface Carrez du 5eme lot    True\n",
       "Nombre de lots                True\n",
       "Code type local               True\n",
       "Type local                    True\n",
       "Identifiant local             True\n",
       "Surface reelle bati           True\n",
       "Nombre pieces principales     True\n",
       "Nature culture                True\n",
       "Nature culture speciale       True\n",
       "Surface terrain               True\n",
       "dtype: bool"
      ]
     },
     "execution_count": 11,
     "metadata": {},
     "output_type": "execute_result"
    }
   ],
   "source": [
    "csv2019.dtypes == csv2020.dtypes"
   ]
  },
  {
   "cell_type": "markdown",
   "metadata": {},
   "source": [
    "Les dtypes sont identiques sauf pour le 5eme lot (une colonne que nous allons retirer plus tard)"
   ]
  },
  {
   "cell_type": "markdown",
   "metadata": {},
   "source": [
    "La concaténation"
   ]
  },
  {
   "cell_type": "code",
   "execution_count": 12,
   "metadata": {},
   "outputs": [],
   "source": [
    "rawdf = pd.concat([csv2018, csv2019, csv2020])"
   ]
  },
  {
   "cell_type": "code",
   "execution_count": 13,
   "metadata": {},
   "outputs": [
    {
     "data": {
      "text/plain": [
       "10095093"
      ]
     },
     "execution_count": 13,
     "metadata": {},
     "output_type": "execute_result"
    }
   ],
   "source": [
    "len(rawdf)"
   ]
  },
  {
   "cell_type": "code",
   "execution_count": 14,
   "metadata": {
    "scrolled": true
   },
   "outputs": [
    {
     "data": {
      "text/plain": [
       "Code service CH                      0\n",
       "Reference document                   0\n",
       "1 Articles CGI                       0\n",
       "2 Articles CGI                       0\n",
       "3 Articles CGI                       0\n",
       "4 Articles CGI                       0\n",
       "5 Articles CGI                       0\n",
       "No disposition                10095093\n",
       "Date mutation                 10095093\n",
       "Nature mutation               10095093\n",
       "Valeur fonciere                9979638\n",
       "No voie                        5950850\n",
       "B/T/Q                           437788\n",
       "Type de voie                   5814437\n",
       "Code voie                      9999843\n",
       "Voie                           9999774\n",
       "Code postal                    9999447\n",
       "Commune                       10095093\n",
       "Code departement              10095093\n",
       "Code commune                  10095093\n",
       "Prefixe de section              462784\n",
       "Section                       10094795\n",
       "No plan                       10095093\n",
       "No Volume                        28291\n",
       "1er lot                        3139644\n",
       "Surface Carrez du 1er lot       856512\n",
       "2eme lot                        660985\n",
       "Surface Carrez du 2eme lot      213728\n",
       "3eme lot                        110297\n",
       "Surface Carrez du 3eme lot       21208\n",
       "4eme lot                         38042\n",
       "Surface Carrez du 4eme lot        5656\n",
       "5eme lot                         17989\n",
       "Surface Carrez du 5eme lot        2451\n",
       "Nombre de lots                10095093\n",
       "Code type local                5494476\n",
       "Type local                     5494476\n",
       "Identifiant local                    0\n",
       "Surface reelle bati            5486948\n",
       "Nombre pieces principales      5486948\n",
       "Nature culture                 6910666\n",
       "Nature culture speciale         451752\n",
       "Surface terrain                6910666\n",
       "dtype: int64"
      ]
     },
     "execution_count": 14,
     "metadata": {},
     "output_type": "execute_result"
    }
   ],
   "source": [
    "len(rawdf) - rawdf.isnull().sum(axis=0) # absolute count of not nans rows"
   ]
  },
  {
   "cell_type": "code",
   "execution_count": 15,
   "metadata": {
    "scrolled": true
   },
   "outputs": [
    {
     "data": {
      "text/plain": [
       "Code service CH               100.000000\n",
       "Reference document            100.000000\n",
       "1 Articles CGI                100.000000\n",
       "2 Articles CGI                100.000000\n",
       "3 Articles CGI                100.000000\n",
       "4 Articles CGI                100.000000\n",
       "5 Articles CGI                100.000000\n",
       "No disposition                  0.000000\n",
       "Date mutation                   0.000000\n",
       "Nature mutation                 0.000000\n",
       "Valeur fonciere                 1.143674\n",
       "No voie                        41.052054\n",
       "B/T/Q                          95.663358\n",
       "Type de voie                   42.403334\n",
       "Code voie                       0.943528\n",
       "Voie                            0.944211\n",
       "Code postal                     0.947450\n",
       "Commune                         0.000000\n",
       "Code departement                0.000000\n",
       "Code commune                    0.000000\n",
       "Prefixe de section             95.415753\n",
       "Section                         0.002952\n",
       "No plan                         0.000000\n",
       "No Volume                      99.719755\n",
       "1er lot                        68.899306\n",
       "Surface Carrez du 1er lot      91.515561\n",
       "2eme lot                       93.452413\n",
       "Surface Carrez du 2eme lot     97.882853\n",
       "3eme lot                       98.907420\n",
       "Surface Carrez du 3eme lot     99.789918\n",
       "4eme lot                       99.623163\n",
       "Surface Carrez du 4eme lot     99.943973\n",
       "5eme lot                       99.821805\n",
       "Surface Carrez du 5eme lot     99.975721\n",
       "Nombre de lots                  0.000000\n",
       "Code type local                45.572805\n",
       "Type local                     45.572805\n",
       "Identifiant local             100.000000\n",
       "Surface reelle bati            45.647375\n",
       "Nombre pieces principales      45.647375\n",
       "Nature culture                 31.544306\n",
       "Nature culture speciale        95.525034\n",
       "Surface terrain                31.544306\n",
       "dtype: float64"
      ]
     },
     "execution_count": 15,
     "metadata": {},
     "output_type": "execute_result"
    }
   ],
   "source": [
    "rawdf.isnull().sum(axis=0)/len(rawdf)*100 # percentage of nan values"
   ]
  },
  {
   "cell_type": "code",
   "execution_count": 16,
   "metadata": {
    "scrolled": true
   },
   "outputs": [
    {
     "name": "stdout",
     "output_type": "stream",
     "text": [
      "<class 'pandas.core.frame.DataFrame'>\n",
      "Int64Index: 10095093 entries, 0 to 3149481\n",
      "Data columns (total 43 columns):\n",
      " #   Column                      Dtype  \n",
      "---  ------                      -----  \n",
      " 0   Code service CH             float64\n",
      " 1   Reference document          float64\n",
      " 2   1 Articles CGI              float64\n",
      " 3   2 Articles CGI              float64\n",
      " 4   3 Articles CGI              float64\n",
      " 5   4 Articles CGI              float64\n",
      " 6   5 Articles CGI              float64\n",
      " 7   No disposition              int64  \n",
      " 8   Date mutation               object \n",
      " 9   Nature mutation             object \n",
      " 10  Valeur fonciere             object \n",
      " 11  No voie                     float64\n",
      " 12  B/T/Q                       object \n",
      " 13  Type de voie                object \n",
      " 14  Code voie                   object \n",
      " 15  Voie                        object \n",
      " 16  Code postal                 float64\n",
      " 17  Commune                     object \n",
      " 18  Code departement            object \n",
      " 19  Code commune                int64  \n",
      " 20  Prefixe de section          float64\n",
      " 21  Section                     object \n",
      " 22  No plan                     int64  \n",
      " 23  No Volume                   object \n",
      " 24  1er lot                     object \n",
      " 25  Surface Carrez du 1er lot   object \n",
      " 26  2eme lot                    object \n",
      " 27  Surface Carrez du 2eme lot  object \n",
      " 28  3eme lot                    object \n",
      " 29  Surface Carrez du 3eme lot  object \n",
      " 30  4eme lot                    float64\n",
      " 31  Surface Carrez du 4eme lot  object \n",
      " 32  5eme lot                    object \n",
      " 33  Surface Carrez du 5eme lot  object \n",
      " 34  Nombre de lots              int64  \n",
      " 35  Code type local             float64\n",
      " 36  Type local                  object \n",
      " 37  Identifiant local           float64\n",
      " 38  Surface reelle bati         float64\n",
      " 39  Nombre pieces principales   float64\n",
      " 40  Nature culture              object \n",
      " 41  Nature culture speciale     object \n",
      " 42  Surface terrain             float64\n",
      "dtypes: float64(16), int64(4), object(23)\n",
      "memory usage: 3.3+ GB\n"
     ]
    }
   ],
   "source": [
    "rawdf.info()"
   ]
  },
  {
   "cell_type": "markdown",
   "metadata": {},
   "source": [
    "Vérifier la cohérence des types et de la longueur du dataframe"
   ]
  },
  {
   "cell_type": "code",
   "execution_count": 17,
   "metadata": {
    "scrolled": true
   },
   "outputs": [
    {
     "name": "stdout",
     "output_type": "stream",
     "text": [
      "3332865 3612746 3149482 10095093\n",
      "0\n"
     ]
    }
   ],
   "source": [
    "print(len(csv2018), len(csv2019), len(csv2020), len(rawdf))\n",
    "print(len(csv2018) + len(csv2019) + len(csv2020) - len(rawdf)) # check if number of rows is coherent"
   ]
  },
  {
   "cell_type": "code",
   "execution_count": 18,
   "metadata": {},
   "outputs": [
    {
     "data": {
      "text/plain": [
       "array([ True,  True,  True,  True,  True,  True,  True,  True,  True,\n",
       "        True,  True,  True,  True,  True,  True,  True,  True,  True,\n",
       "        True,  True,  True,  True,  True,  True,  True,  True,  True,\n",
       "        True,  True,  True,  True,  True,  True,  True,  True,  True,\n",
       "        True,  True,  True,  True,  True,  True,  True])"
      ]
     },
     "execution_count": 18,
     "metadata": {},
     "output_type": "execute_result"
    }
   ],
   "source": [
    "rawdf.columns == csv2018.columns"
   ]
  },
  {
   "cell_type": "code",
   "execution_count": 19,
   "metadata": {
    "scrolled": true
   },
   "outputs": [
    {
     "data": {
      "text/plain": [
       "Code service CH               True\n",
       "Reference document            True\n",
       "1 Articles CGI                True\n",
       "2 Articles CGI                True\n",
       "3 Articles CGI                True\n",
       "4 Articles CGI                True\n",
       "5 Articles CGI                True\n",
       "No disposition                True\n",
       "Date mutation                 True\n",
       "Nature mutation               True\n",
       "Valeur fonciere               True\n",
       "No voie                       True\n",
       "B/T/Q                         True\n",
       "Type de voie                  True\n",
       "Code voie                     True\n",
       "Voie                          True\n",
       "Code postal                   True\n",
       "Commune                       True\n",
       "Code departement              True\n",
       "Code commune                  True\n",
       "Prefixe de section            True\n",
       "Section                       True\n",
       "No plan                       True\n",
       "No Volume                     True\n",
       "1er lot                       True\n",
       "Surface Carrez du 1er lot     True\n",
       "2eme lot                      True\n",
       "Surface Carrez du 2eme lot    True\n",
       "3eme lot                      True\n",
       "Surface Carrez du 3eme lot    True\n",
       "4eme lot                      True\n",
       "Surface Carrez du 4eme lot    True\n",
       "5eme lot                      True\n",
       "Surface Carrez du 5eme lot    True\n",
       "Nombre de lots                True\n",
       "Code type local               True\n",
       "Type local                    True\n",
       "Identifiant local             True\n",
       "Surface reelle bati           True\n",
       "Nombre pieces principales     True\n",
       "Nature culture                True\n",
       "Nature culture speciale       True\n",
       "Surface terrain               True\n",
       "dtype: bool"
      ]
     },
     "execution_count": 19,
     "metadata": {},
     "output_type": "execute_result"
    }
   ],
   "source": [
    "rawdf.dtypes == csv2018.dtypes"
   ]
  },
  {
   "cell_type": "code",
   "execution_count": 20,
   "metadata": {
    "scrolled": false
   },
   "outputs": [
    {
     "data": {
      "text/html": [
       "<div>\n",
       "<style scoped>\n",
       "    .dataframe tbody tr th:only-of-type {\n",
       "        vertical-align: middle;\n",
       "    }\n",
       "\n",
       "    .dataframe tbody tr th {\n",
       "        vertical-align: top;\n",
       "    }\n",
       "\n",
       "    .dataframe thead th {\n",
       "        text-align: right;\n",
       "    }\n",
       "</style>\n",
       "<table border=\"1\" class=\"dataframe\">\n",
       "  <thead>\n",
       "    <tr style=\"text-align: right;\">\n",
       "      <th></th>\n",
       "      <th>Code service CH</th>\n",
       "      <th>Reference document</th>\n",
       "      <th>1 Articles CGI</th>\n",
       "      <th>2 Articles CGI</th>\n",
       "      <th>3 Articles CGI</th>\n",
       "      <th>4 Articles CGI</th>\n",
       "      <th>5 Articles CGI</th>\n",
       "      <th>No disposition</th>\n",
       "      <th>Date mutation</th>\n",
       "      <th>Nature mutation</th>\n",
       "      <th>...</th>\n",
       "      <th>Surface Carrez du 5eme lot</th>\n",
       "      <th>Nombre de lots</th>\n",
       "      <th>Code type local</th>\n",
       "      <th>Type local</th>\n",
       "      <th>Identifiant local</th>\n",
       "      <th>Surface reelle bati</th>\n",
       "      <th>Nombre pieces principales</th>\n",
       "      <th>Nature culture</th>\n",
       "      <th>Nature culture speciale</th>\n",
       "      <th>Surface terrain</th>\n",
       "    </tr>\n",
       "  </thead>\n",
       "  <tbody>\n",
       "    <tr>\n",
       "      <th>0</th>\n",
       "      <td>NaN</td>\n",
       "      <td>NaN</td>\n",
       "      <td>NaN</td>\n",
       "      <td>NaN</td>\n",
       "      <td>NaN</td>\n",
       "      <td>NaN</td>\n",
       "      <td>NaN</td>\n",
       "      <td>1</td>\n",
       "      <td>03/01/2018</td>\n",
       "      <td>Vente</td>\n",
       "      <td>...</td>\n",
       "      <td>NaN</td>\n",
       "      <td>1</td>\n",
       "      <td>3.0</td>\n",
       "      <td>Dépendance</td>\n",
       "      <td>NaN</td>\n",
       "      <td>0.0</td>\n",
       "      <td>0.0</td>\n",
       "      <td>NaN</td>\n",
       "      <td>NaN</td>\n",
       "      <td>NaN</td>\n",
       "    </tr>\n",
       "    <tr>\n",
       "      <th>1</th>\n",
       "      <td>NaN</td>\n",
       "      <td>NaN</td>\n",
       "      <td>NaN</td>\n",
       "      <td>NaN</td>\n",
       "      <td>NaN</td>\n",
       "      <td>NaN</td>\n",
       "      <td>NaN</td>\n",
       "      <td>1</td>\n",
       "      <td>03/01/2018</td>\n",
       "      <td>Vente</td>\n",
       "      <td>...</td>\n",
       "      <td>NaN</td>\n",
       "      <td>2</td>\n",
       "      <td>2.0</td>\n",
       "      <td>Appartement</td>\n",
       "      <td>NaN</td>\n",
       "      <td>73.0</td>\n",
       "      <td>4.0</td>\n",
       "      <td>NaN</td>\n",
       "      <td>NaN</td>\n",
       "      <td>NaN</td>\n",
       "    </tr>\n",
       "    <tr>\n",
       "      <th>2</th>\n",
       "      <td>NaN</td>\n",
       "      <td>NaN</td>\n",
       "      <td>NaN</td>\n",
       "      <td>NaN</td>\n",
       "      <td>NaN</td>\n",
       "      <td>NaN</td>\n",
       "      <td>NaN</td>\n",
       "      <td>1</td>\n",
       "      <td>04/01/2018</td>\n",
       "      <td>Vente</td>\n",
       "      <td>...</td>\n",
       "      <td>NaN</td>\n",
       "      <td>0</td>\n",
       "      <td>1.0</td>\n",
       "      <td>Maison</td>\n",
       "      <td>NaN</td>\n",
       "      <td>163.0</td>\n",
       "      <td>4.0</td>\n",
       "      <td>S</td>\n",
       "      <td>NaN</td>\n",
       "      <td>949.0</td>\n",
       "    </tr>\n",
       "    <tr>\n",
       "      <th>3</th>\n",
       "      <td>NaN</td>\n",
       "      <td>NaN</td>\n",
       "      <td>NaN</td>\n",
       "      <td>NaN</td>\n",
       "      <td>NaN</td>\n",
       "      <td>NaN</td>\n",
       "      <td>NaN</td>\n",
       "      <td>1</td>\n",
       "      <td>04/01/2018</td>\n",
       "      <td>Vente</td>\n",
       "      <td>...</td>\n",
       "      <td>NaN</td>\n",
       "      <td>0</td>\n",
       "      <td>1.0</td>\n",
       "      <td>Maison</td>\n",
       "      <td>NaN</td>\n",
       "      <td>51.0</td>\n",
       "      <td>2.0</td>\n",
       "      <td>S</td>\n",
       "      <td>NaN</td>\n",
       "      <td>949.0</td>\n",
       "    </tr>\n",
       "    <tr>\n",
       "      <th>4</th>\n",
       "      <td>NaN</td>\n",
       "      <td>NaN</td>\n",
       "      <td>NaN</td>\n",
       "      <td>NaN</td>\n",
       "      <td>NaN</td>\n",
       "      <td>NaN</td>\n",
       "      <td>NaN</td>\n",
       "      <td>1</td>\n",
       "      <td>04/01/2018</td>\n",
       "      <td>Vente</td>\n",
       "      <td>...</td>\n",
       "      <td>NaN</td>\n",
       "      <td>0</td>\n",
       "      <td>1.0</td>\n",
       "      <td>Maison</td>\n",
       "      <td>NaN</td>\n",
       "      <td>163.0</td>\n",
       "      <td>4.0</td>\n",
       "      <td>AG</td>\n",
       "      <td>JARD</td>\n",
       "      <td>420.0</td>\n",
       "    </tr>\n",
       "  </tbody>\n",
       "</table>\n",
       "<p>5 rows × 43 columns</p>\n",
       "</div>"
      ],
      "text/plain": [
       "   Code service CH  Reference document  1 Articles CGI  2 Articles CGI  \\\n",
       "0              NaN                 NaN             NaN             NaN   \n",
       "1              NaN                 NaN             NaN             NaN   \n",
       "2              NaN                 NaN             NaN             NaN   \n",
       "3              NaN                 NaN             NaN             NaN   \n",
       "4              NaN                 NaN             NaN             NaN   \n",
       "\n",
       "   3 Articles CGI  4 Articles CGI  5 Articles CGI  No disposition  \\\n",
       "0             NaN             NaN             NaN               1   \n",
       "1             NaN             NaN             NaN               1   \n",
       "2             NaN             NaN             NaN               1   \n",
       "3             NaN             NaN             NaN               1   \n",
       "4             NaN             NaN             NaN               1   \n",
       "\n",
       "  Date mutation Nature mutation  ... Surface Carrez du 5eme lot  \\\n",
       "0    03/01/2018           Vente  ...                        NaN   \n",
       "1    03/01/2018           Vente  ...                        NaN   \n",
       "2    04/01/2018           Vente  ...                        NaN   \n",
       "3    04/01/2018           Vente  ...                        NaN   \n",
       "4    04/01/2018           Vente  ...                        NaN   \n",
       "\n",
       "   Nombre de lots Code type local   Type local Identifiant local  \\\n",
       "0               1             3.0   Dépendance               NaN   \n",
       "1               2             2.0  Appartement               NaN   \n",
       "2               0             1.0       Maison               NaN   \n",
       "3               0             1.0       Maison               NaN   \n",
       "4               0             1.0       Maison               NaN   \n",
       "\n",
       "  Surface reelle bati  Nombre pieces principales Nature culture  \\\n",
       "0                 0.0                        0.0            NaN   \n",
       "1                73.0                        4.0            NaN   \n",
       "2               163.0                        4.0              S   \n",
       "3                51.0                        2.0              S   \n",
       "4               163.0                        4.0             AG   \n",
       "\n",
       "  Nature culture speciale  Surface terrain  \n",
       "0                     NaN              NaN  \n",
       "1                     NaN              NaN  \n",
       "2                     NaN            949.0  \n",
       "3                     NaN            949.0  \n",
       "4                    JARD            420.0  \n",
       "\n",
       "[5 rows x 43 columns]"
      ]
     },
     "execution_count": 20,
     "metadata": {},
     "output_type": "execute_result"
    }
   ],
   "source": [
    "rawdf.head()"
   ]
  },
  {
   "cell_type": "markdown",
   "metadata": {},
   "source": [
    "#### Conversion des types"
   ]
  },
  {
   "cell_type": "code",
   "execution_count": 21,
   "metadata": {},
   "outputs": [],
   "source": [
    "# convert text fields to categories\n",
    "to_categorical = ['Type de voie', 'Type local',\n",
    "                  'Nature culture', 'Nature culture speciale', 'Nature mutation', 'B/T/Q']\n",
    "for colname in to_categorical:\n",
    "    rawdf[colname] = rawdf[colname].astype('category')"
   ]
  },
  {
   "cell_type": "code",
   "execution_count": 22,
   "metadata": {
    "scrolled": true
   },
   "outputs": [
    {
     "data": {
      "text/plain": [
       "Code service CH                float64\n",
       "Reference document             float64\n",
       "1 Articles CGI                 float64\n",
       "2 Articles CGI                 float64\n",
       "3 Articles CGI                 float64\n",
       "4 Articles CGI                 float64\n",
       "5 Articles CGI                 float64\n",
       "No disposition                   int64\n",
       "Date mutation                   object\n",
       "Nature mutation               category\n",
       "Valeur fonciere                 object\n",
       "No voie                        float64\n",
       "B/T/Q                         category\n",
       "Type de voie                  category\n",
       "Code voie                       object\n",
       "Voie                            object\n",
       "Code postal                    float64\n",
       "Commune                         object\n",
       "Code departement                object\n",
       "Code commune                     int64\n",
       "Prefixe de section             float64\n",
       "Section                         object\n",
       "No plan                          int64\n",
       "No Volume                       object\n",
       "1er lot                         object\n",
       "Surface Carrez du 1er lot       object\n",
       "2eme lot                        object\n",
       "Surface Carrez du 2eme lot      object\n",
       "3eme lot                        object\n",
       "Surface Carrez du 3eme lot      object\n",
       "4eme lot                       float64\n",
       "Surface Carrez du 4eme lot      object\n",
       "5eme lot                        object\n",
       "Surface Carrez du 5eme lot      object\n",
       "Nombre de lots                   int64\n",
       "Code type local                float64\n",
       "Type local                    category\n",
       "Identifiant local              float64\n",
       "Surface reelle bati            float64\n",
       "Nombre pieces principales      float64\n",
       "Nature culture                category\n",
       "Nature culture speciale       category\n",
       "Surface terrain                float64\n",
       "dtype: object"
      ]
     },
     "execution_count": 22,
     "metadata": {},
     "output_type": "execute_result"
    }
   ],
   "source": [
    "rawdf.dtypes"
   ]
  },
  {
   "cell_type": "code",
   "execution_count": 23,
   "metadata": {
    "scrolled": true
   },
   "outputs": [
    {
     "data": {
      "text/plain": [
       "Code service CH               100.000000\n",
       "Reference document            100.000000\n",
       "1 Articles CGI                100.000000\n",
       "2 Articles CGI                100.000000\n",
       "3 Articles CGI                100.000000\n",
       "4 Articles CGI                100.000000\n",
       "5 Articles CGI                100.000000\n",
       "No disposition                  0.000000\n",
       "Date mutation                   0.000000\n",
       "Nature mutation                 0.000000\n",
       "Valeur fonciere                 1.143674\n",
       "No voie                        41.052054\n",
       "B/T/Q                          95.663358\n",
       "Type de voie                   42.403334\n",
       "Code voie                       0.943528\n",
       "Voie                            0.944211\n",
       "Code postal                     0.947450\n",
       "Commune                         0.000000\n",
       "Code departement                0.000000\n",
       "Code commune                    0.000000\n",
       "Prefixe de section             95.415753\n",
       "Section                         0.002952\n",
       "No plan                         0.000000\n",
       "No Volume                      99.719755\n",
       "1er lot                        68.899306\n",
       "Surface Carrez du 1er lot      91.515561\n",
       "2eme lot                       93.452413\n",
       "Surface Carrez du 2eme lot     97.882853\n",
       "3eme lot                       98.907420\n",
       "Surface Carrez du 3eme lot     99.789918\n",
       "4eme lot                       99.623163\n",
       "Surface Carrez du 4eme lot     99.943973\n",
       "5eme lot                       99.821805\n",
       "Surface Carrez du 5eme lot     99.975721\n",
       "Nombre de lots                  0.000000\n",
       "Code type local                45.572805\n",
       "Type local                     45.572805\n",
       "Identifiant local             100.000000\n",
       "Surface reelle bati            45.647375\n",
       "Nombre pieces principales      45.647375\n",
       "Nature culture                 31.544306\n",
       "Nature culture speciale        95.525034\n",
       "Surface terrain                31.544306\n",
       "dtype: float64"
      ]
     },
     "execution_count": 23,
     "metadata": {},
     "output_type": "execute_result"
    }
   ],
   "source": [
    "rawdf.isnull().sum(axis=0)/len(rawdf)*100 # percentage of nan values"
   ]
  },
  {
   "cell_type": "code",
   "execution_count": 24,
   "metadata": {
    "scrolled": true
   },
   "outputs": [],
   "source": [
    "# store dtypes for later use\n",
    "finaltypes = rawdf.dtypes"
   ]
  },
  {
   "cell_type": "code",
   "execution_count": 25,
   "metadata": {
    "scrolled": true
   },
   "outputs": [
    {
     "data": {
      "text/plain": [
       "{'Code service CH': dtype('float64'),\n",
       " 'Reference document': dtype('float64'),\n",
       " '1 Articles CGI': dtype('float64'),\n",
       " '2 Articles CGI': dtype('float64'),\n",
       " '3 Articles CGI': dtype('float64'),\n",
       " '4 Articles CGI': dtype('float64'),\n",
       " '5 Articles CGI': dtype('float64'),\n",
       " 'No disposition': dtype('int64'),\n",
       " 'Date mutation': dtype('O'),\n",
       " 'Nature mutation': CategoricalDtype(categories=['Adjudication', 'Echange', 'Expropriation', 'Vente',\n",
       "                   'Vente en l'état futur d'achèvement',\n",
       "                   'Vente terrain à bâtir'],\n",
       "                  ordered=False),\n",
       " 'Valeur fonciere': dtype('O'),\n",
       " 'No voie': dtype('float64'),\n",
       " 'B/T/Q': CategoricalDtype(categories=['*', ',', '-', '.', '/', '0', '1', '2', '3', '4', '5', '6',\n",
       "                   '7', '8', '9', 'A', 'B', 'C', 'D', 'E', 'F', 'G', 'H', 'I',\n",
       "                   'J', 'K', 'L', 'M', 'N', 'O', 'P', 'Q', 'R', 'S', 'T', 'U',\n",
       "                   'V', 'W', 'X', 'Y', 'Z', 'b'],\n",
       "                  ordered=False),\n",
       " 'Type de voie': CategoricalDtype(categories=['ACH', 'AGL', 'ALL', 'ANGL', 'ART', 'AUT', 'AV', 'BD', 'BER',\n",
       "                   'BORD',\n",
       "                   ...\n",
       "                   'VOIE', 'VOIR', 'VOY', 'VTE', 'ZA', 'ZAC', 'ZAD', 'ZI',\n",
       "                   'ZONE', 'ZUP'],\n",
       "                  ordered=False),\n",
       " 'Code voie': dtype('O'),\n",
       " 'Voie': dtype('O'),\n",
       " 'Code postal': dtype('float64'),\n",
       " 'Commune': dtype('O'),\n",
       " 'Code departement': dtype('O'),\n",
       " 'Code commune': dtype('int64'),\n",
       " 'Prefixe de section': dtype('float64'),\n",
       " 'Section': dtype('O'),\n",
       " 'No plan': dtype('int64'),\n",
       " 'No Volume': dtype('O'),\n",
       " '1er lot': dtype('O'),\n",
       " 'Surface Carrez du 1er lot': dtype('O'),\n",
       " '2eme lot': dtype('O'),\n",
       " 'Surface Carrez du 2eme lot': dtype('O'),\n",
       " '3eme lot': dtype('O'),\n",
       " 'Surface Carrez du 3eme lot': dtype('O'),\n",
       " '4eme lot': dtype('float64'),\n",
       " 'Surface Carrez du 4eme lot': dtype('O'),\n",
       " '5eme lot': dtype('O'),\n",
       " 'Surface Carrez du 5eme lot': dtype('O'),\n",
       " 'Nombre de lots': dtype('int64'),\n",
       " 'Code type local': dtype('float64'),\n",
       " 'Type local': CategoricalDtype(categories=['Appartement', 'Dépendance',\n",
       "                   'Local industriel. commercial ou assimilé', 'Maison'],\n",
       "                  ordered=False),\n",
       " 'Identifiant local': dtype('float64'),\n",
       " 'Surface reelle bati': dtype('float64'),\n",
       " 'Nombre pieces principales': dtype('float64'),\n",
       " 'Nature culture': CategoricalDtype(categories=['AB', 'AG', 'B', 'BF', 'BM', 'BO', 'BP', 'BR', 'BS', 'BT',\n",
       "                   'CA', 'CH', 'E', 'J', 'L', 'LB', 'P', 'PA', 'PC', 'PE', 'PH',\n",
       "                   'PP', 'S', 'T', 'TP', 'VE', 'VI'],\n",
       "                  ordered=False),\n",
       " 'Nature culture speciale': CategoricalDtype(categories=['ABREU', 'ABRIC', 'ACACI', 'AEROD', 'AIRE', 'ALLEE', 'ALLUV',\n",
       "                   'AMAND', 'ARGIL', 'ASPER',\n",
       "                   ...\n",
       "                   'SOURC', 'SPORT', 'TAMAR', 'TOURB', 'TOUYA', 'VAGUE', 'VAOC',\n",
       "                   'VDQS', 'VIGNE', 'VIVIE'],\n",
       "                  ordered=False),\n",
       " 'Surface terrain': dtype('float64')}"
      ]
     },
     "execution_count": 25,
     "metadata": {},
     "output_type": "execute_result"
    }
   ],
   "source": [
    "finaltypes.to_dict()"
   ]
  },
  {
   "cell_type": "code",
   "execution_count": 26,
   "metadata": {
    "scrolled": true
   },
   "outputs": [],
   "source": [
    "# reload and reconcat with appropriate dtypes\n",
    "csv2018 = pd.read_csv(\"valeursfoncieres-2018.csv\", dtype=finaltypes.to_dict(), parse_dates=['Date mutation'])\n",
    "csv2019 = pd.read_csv(\"valeursfoncieres-2019.csv\", dtype=finaltypes.to_dict(), parse_dates=['Date mutation'])\n",
    "csv2020 = pd.read_csv(\"valeursfoncieres-2020.csv\", dtype=finaltypes.to_dict(), parse_dates=['Date mutation'])\n",
    "rawdf = pd.concat([csv2018, csv2019, csv2020])"
   ]
  },
  {
   "cell_type": "code",
   "execution_count": 27,
   "metadata": {
    "scrolled": true
   },
   "outputs": [
    {
     "data": {
      "text/plain": [
       "Code service CH                      float64\n",
       "Reference document                   float64\n",
       "1 Articles CGI                       float64\n",
       "2 Articles CGI                       float64\n",
       "3 Articles CGI                       float64\n",
       "4 Articles CGI                       float64\n",
       "5 Articles CGI                       float64\n",
       "No disposition                         int64\n",
       "Date mutation                 datetime64[ns]\n",
       "Nature mutation                     category\n",
       "Valeur fonciere                       object\n",
       "No voie                              float64\n",
       "B/T/Q                               category\n",
       "Type de voie                        category\n",
       "Code voie                             object\n",
       "Voie                                  object\n",
       "Code postal                          float64\n",
       "Commune                               object\n",
       "Code departement                      object\n",
       "Code commune                           int64\n",
       "Prefixe de section                   float64\n",
       "Section                               object\n",
       "No plan                                int64\n",
       "No Volume                             object\n",
       "1er lot                               object\n",
       "Surface Carrez du 1er lot             object\n",
       "2eme lot                              object\n",
       "Surface Carrez du 2eme lot            object\n",
       "3eme lot                              object\n",
       "Surface Carrez du 3eme lot            object\n",
       "4eme lot                             float64\n",
       "Surface Carrez du 4eme lot            object\n",
       "5eme lot                              object\n",
       "Surface Carrez du 5eme lot            object\n",
       "Nombre de lots                         int64\n",
       "Code type local                      float64\n",
       "Type local                          category\n",
       "Identifiant local                    float64\n",
       "Surface reelle bati                  float64\n",
       "Nombre pieces principales            float64\n",
       "Nature culture                      category\n",
       "Nature culture speciale             category\n",
       "Surface terrain                      float64\n",
       "dtype: object"
      ]
     },
     "execution_count": 27,
     "metadata": {},
     "output_type": "execute_result"
    }
   ],
   "source": [
    "rawdf.dtypes"
   ]
  },
  {
   "cell_type": "code",
   "execution_count": 28,
   "metadata": {
    "scrolled": true
   },
   "outputs": [
    {
     "data": {
      "text/plain": [
       "Code service CH               100.000000\n",
       "Reference document            100.000000\n",
       "1 Articles CGI                100.000000\n",
       "2 Articles CGI                100.000000\n",
       "3 Articles CGI                100.000000\n",
       "4 Articles CGI                100.000000\n",
       "5 Articles CGI                100.000000\n",
       "No disposition                  0.000000\n",
       "Date mutation                   0.000000\n",
       "Nature mutation                 0.000000\n",
       "Valeur fonciere                 1.143674\n",
       "No voie                        41.052054\n",
       "B/T/Q                          95.663358\n",
       "Type de voie                   42.403334\n",
       "Code voie                       0.943528\n",
       "Voie                            0.944211\n",
       "Code postal                     0.947450\n",
       "Commune                         0.000000\n",
       "Code departement                0.000000\n",
       "Code commune                    0.000000\n",
       "Prefixe de section             95.415753\n",
       "Section                         0.002952\n",
       "No plan                         0.000000\n",
       "No Volume                      99.719755\n",
       "1er lot                        68.899306\n",
       "Surface Carrez du 1er lot      91.515561\n",
       "2eme lot                       93.452413\n",
       "Surface Carrez du 2eme lot     97.882853\n",
       "3eme lot                       98.907420\n",
       "Surface Carrez du 3eme lot     99.789918\n",
       "4eme lot                       99.623163\n",
       "Surface Carrez du 4eme lot     99.943973\n",
       "5eme lot                       99.821805\n",
       "Surface Carrez du 5eme lot     99.975721\n",
       "Nombre de lots                  0.000000\n",
       "Code type local                45.572805\n",
       "Type local                     45.572805\n",
       "Identifiant local             100.000000\n",
       "Surface reelle bati            45.647375\n",
       "Nombre pieces principales      45.647375\n",
       "Nature culture                 31.544306\n",
       "Nature culture speciale        95.525034\n",
       "Surface terrain                31.544306\n",
       "dtype: float64"
      ]
     },
     "execution_count": 28,
     "metadata": {},
     "output_type": "execute_result"
    }
   ],
   "source": [
    "rawdf.isnull().sum(axis=0)/len(rawdf)*100 # percentage of nan values"
   ]
  },
  {
   "cell_type": "code",
   "execution_count": 29,
   "metadata": {
    "scrolled": true
   },
   "outputs": [
    {
     "data": {
      "text/html": [
       "<div>\n",
       "<style scoped>\n",
       "    .dataframe tbody tr th:only-of-type {\n",
       "        vertical-align: middle;\n",
       "    }\n",
       "\n",
       "    .dataframe tbody tr th {\n",
       "        vertical-align: top;\n",
       "    }\n",
       "\n",
       "    .dataframe thead th {\n",
       "        text-align: right;\n",
       "    }\n",
       "</style>\n",
       "<table border=\"1\" class=\"dataframe\">\n",
       "  <thead>\n",
       "    <tr style=\"text-align: right;\">\n",
       "      <th></th>\n",
       "      <th>Code service CH</th>\n",
       "      <th>Reference document</th>\n",
       "      <th>1 Articles CGI</th>\n",
       "      <th>2 Articles CGI</th>\n",
       "      <th>3 Articles CGI</th>\n",
       "      <th>4 Articles CGI</th>\n",
       "      <th>5 Articles CGI</th>\n",
       "      <th>No disposition</th>\n",
       "      <th>Date mutation</th>\n",
       "      <th>Nature mutation</th>\n",
       "      <th>...</th>\n",
       "      <th>Surface Carrez du 5eme lot</th>\n",
       "      <th>Nombre de lots</th>\n",
       "      <th>Code type local</th>\n",
       "      <th>Type local</th>\n",
       "      <th>Identifiant local</th>\n",
       "      <th>Surface reelle bati</th>\n",
       "      <th>Nombre pieces principales</th>\n",
       "      <th>Nature culture</th>\n",
       "      <th>Nature culture speciale</th>\n",
       "      <th>Surface terrain</th>\n",
       "    </tr>\n",
       "  </thead>\n",
       "  <tbody>\n",
       "    <tr>\n",
       "      <th>0</th>\n",
       "      <td>NaN</td>\n",
       "      <td>NaN</td>\n",
       "      <td>NaN</td>\n",
       "      <td>NaN</td>\n",
       "      <td>NaN</td>\n",
       "      <td>NaN</td>\n",
       "      <td>NaN</td>\n",
       "      <td>1</td>\n",
       "      <td>2018-03-01</td>\n",
       "      <td>Vente</td>\n",
       "      <td>...</td>\n",
       "      <td>NaN</td>\n",
       "      <td>1</td>\n",
       "      <td>3.0</td>\n",
       "      <td>Dépendance</td>\n",
       "      <td>NaN</td>\n",
       "      <td>0.0</td>\n",
       "      <td>0.0</td>\n",
       "      <td>NaN</td>\n",
       "      <td>NaN</td>\n",
       "      <td>NaN</td>\n",
       "    </tr>\n",
       "    <tr>\n",
       "      <th>1</th>\n",
       "      <td>NaN</td>\n",
       "      <td>NaN</td>\n",
       "      <td>NaN</td>\n",
       "      <td>NaN</td>\n",
       "      <td>NaN</td>\n",
       "      <td>NaN</td>\n",
       "      <td>NaN</td>\n",
       "      <td>1</td>\n",
       "      <td>2018-03-01</td>\n",
       "      <td>Vente</td>\n",
       "      <td>...</td>\n",
       "      <td>NaN</td>\n",
       "      <td>2</td>\n",
       "      <td>2.0</td>\n",
       "      <td>Appartement</td>\n",
       "      <td>NaN</td>\n",
       "      <td>73.0</td>\n",
       "      <td>4.0</td>\n",
       "      <td>NaN</td>\n",
       "      <td>NaN</td>\n",
       "      <td>NaN</td>\n",
       "    </tr>\n",
       "    <tr>\n",
       "      <th>2</th>\n",
       "      <td>NaN</td>\n",
       "      <td>NaN</td>\n",
       "      <td>NaN</td>\n",
       "      <td>NaN</td>\n",
       "      <td>NaN</td>\n",
       "      <td>NaN</td>\n",
       "      <td>NaN</td>\n",
       "      <td>1</td>\n",
       "      <td>2018-04-01</td>\n",
       "      <td>Vente</td>\n",
       "      <td>...</td>\n",
       "      <td>NaN</td>\n",
       "      <td>0</td>\n",
       "      <td>1.0</td>\n",
       "      <td>Maison</td>\n",
       "      <td>NaN</td>\n",
       "      <td>163.0</td>\n",
       "      <td>4.0</td>\n",
       "      <td>S</td>\n",
       "      <td>NaN</td>\n",
       "      <td>949.0</td>\n",
       "    </tr>\n",
       "    <tr>\n",
       "      <th>3</th>\n",
       "      <td>NaN</td>\n",
       "      <td>NaN</td>\n",
       "      <td>NaN</td>\n",
       "      <td>NaN</td>\n",
       "      <td>NaN</td>\n",
       "      <td>NaN</td>\n",
       "      <td>NaN</td>\n",
       "      <td>1</td>\n",
       "      <td>2018-04-01</td>\n",
       "      <td>Vente</td>\n",
       "      <td>...</td>\n",
       "      <td>NaN</td>\n",
       "      <td>0</td>\n",
       "      <td>1.0</td>\n",
       "      <td>Maison</td>\n",
       "      <td>NaN</td>\n",
       "      <td>51.0</td>\n",
       "      <td>2.0</td>\n",
       "      <td>S</td>\n",
       "      <td>NaN</td>\n",
       "      <td>949.0</td>\n",
       "    </tr>\n",
       "    <tr>\n",
       "      <th>4</th>\n",
       "      <td>NaN</td>\n",
       "      <td>NaN</td>\n",
       "      <td>NaN</td>\n",
       "      <td>NaN</td>\n",
       "      <td>NaN</td>\n",
       "      <td>NaN</td>\n",
       "      <td>NaN</td>\n",
       "      <td>1</td>\n",
       "      <td>2018-04-01</td>\n",
       "      <td>Vente</td>\n",
       "      <td>...</td>\n",
       "      <td>NaN</td>\n",
       "      <td>0</td>\n",
       "      <td>1.0</td>\n",
       "      <td>Maison</td>\n",
       "      <td>NaN</td>\n",
       "      <td>163.0</td>\n",
       "      <td>4.0</td>\n",
       "      <td>AG</td>\n",
       "      <td>JARD</td>\n",
       "      <td>420.0</td>\n",
       "    </tr>\n",
       "  </tbody>\n",
       "</table>\n",
       "<p>5 rows × 43 columns</p>\n",
       "</div>"
      ],
      "text/plain": [
       "   Code service CH  Reference document  1 Articles CGI  2 Articles CGI  \\\n",
       "0              NaN                 NaN             NaN             NaN   \n",
       "1              NaN                 NaN             NaN             NaN   \n",
       "2              NaN                 NaN             NaN             NaN   \n",
       "3              NaN                 NaN             NaN             NaN   \n",
       "4              NaN                 NaN             NaN             NaN   \n",
       "\n",
       "   3 Articles CGI  4 Articles CGI  5 Articles CGI  No disposition  \\\n",
       "0             NaN             NaN             NaN               1   \n",
       "1             NaN             NaN             NaN               1   \n",
       "2             NaN             NaN             NaN               1   \n",
       "3             NaN             NaN             NaN               1   \n",
       "4             NaN             NaN             NaN               1   \n",
       "\n",
       "  Date mutation Nature mutation  ... Surface Carrez du 5eme lot  \\\n",
       "0    2018-03-01           Vente  ...                        NaN   \n",
       "1    2018-03-01           Vente  ...                        NaN   \n",
       "2    2018-04-01           Vente  ...                        NaN   \n",
       "3    2018-04-01           Vente  ...                        NaN   \n",
       "4    2018-04-01           Vente  ...                        NaN   \n",
       "\n",
       "   Nombre de lots Code type local   Type local Identifiant local  \\\n",
       "0               1             3.0   Dépendance               NaN   \n",
       "1               2             2.0  Appartement               NaN   \n",
       "2               0             1.0       Maison               NaN   \n",
       "3               0             1.0       Maison               NaN   \n",
       "4               0             1.0       Maison               NaN   \n",
       "\n",
       "  Surface reelle bati  Nombre pieces principales Nature culture  \\\n",
       "0                 0.0                        0.0            NaN   \n",
       "1                73.0                        4.0            NaN   \n",
       "2               163.0                        4.0              S   \n",
       "3                51.0                        2.0              S   \n",
       "4               163.0                        4.0             AG   \n",
       "\n",
       "  Nature culture speciale  Surface terrain  \n",
       "0                     NaN              NaN  \n",
       "1                     NaN              NaN  \n",
       "2                     NaN            949.0  \n",
       "3                     NaN            949.0  \n",
       "4                    JARD            420.0  \n",
       "\n",
       "[5 rows x 43 columns]"
      ]
     },
     "execution_count": 29,
     "metadata": {},
     "output_type": "execute_result"
    }
   ],
   "source": [
    "rawdf.head()"
   ]
  },
  {
   "cell_type": "code",
   "execution_count": 30,
   "metadata": {
    "scrolled": true
   },
   "outputs": [
    {
     "name": "stdout",
     "output_type": "stream",
     "text": [
      "<class 'pandas.core.frame.DataFrame'>\n",
      "Int64Index: 10095093 entries, 0 to 3149481\n",
      "Data columns (total 43 columns):\n",
      " #   Column                      Dtype         \n",
      "---  ------                      -----         \n",
      " 0   Code service CH             float64       \n",
      " 1   Reference document          float64       \n",
      " 2   1 Articles CGI              float64       \n",
      " 3   2 Articles CGI              float64       \n",
      " 4   3 Articles CGI              float64       \n",
      " 5   4 Articles CGI              float64       \n",
      " 6   5 Articles CGI              float64       \n",
      " 7   No disposition              int64         \n",
      " 8   Date mutation               datetime64[ns]\n",
      " 9   Nature mutation             category      \n",
      " 10  Valeur fonciere             object        \n",
      " 11  No voie                     float64       \n",
      " 12  B/T/Q                       category      \n",
      " 13  Type de voie                category      \n",
      " 14  Code voie                   object        \n",
      " 15  Voie                        object        \n",
      " 16  Code postal                 float64       \n",
      " 17  Commune                     object        \n",
      " 18  Code departement            object        \n",
      " 19  Code commune                int64         \n",
      " 20  Prefixe de section          float64       \n",
      " 21  Section                     object        \n",
      " 22  No plan                     int64         \n",
      " 23  No Volume                   object        \n",
      " 24  1er lot                     object        \n",
      " 25  Surface Carrez du 1er lot   object        \n",
      " 26  2eme lot                    object        \n",
      " 27  Surface Carrez du 2eme lot  object        \n",
      " 28  3eme lot                    object        \n",
      " 29  Surface Carrez du 3eme lot  object        \n",
      " 30  4eme lot                    float64       \n",
      " 31  Surface Carrez du 4eme lot  object        \n",
      " 32  5eme lot                    object        \n",
      " 33  Surface Carrez du 5eme lot  object        \n",
      " 34  Nombre de lots              int64         \n",
      " 35  Code type local             float64       \n",
      " 36  Type local                  category      \n",
      " 37  Identifiant local           float64       \n",
      " 38  Surface reelle bati         float64       \n",
      " 39  Nombre pieces principales   float64       \n",
      " 40  Nature culture              category      \n",
      " 41  Nature culture speciale     category      \n",
      " 42  Surface terrain             float64       \n",
      "dtypes: category(6), datetime64[ns](1), float64(16), int64(4), object(16)\n",
      "memory usage: 2.9+ GB\n"
     ]
    }
   ],
   "source": [
    "rawdf.info()"
   ]
  },
  {
   "cell_type": "code",
   "execution_count": 31,
   "metadata": {},
   "outputs": [],
   "source": [
    "# free some memory\n",
    "del csv2018\n",
    "del csv2019\n",
    "del csv2020"
   ]
  },
  {
   "cell_type": "markdown",
   "metadata": {},
   "source": [
    "### Nettoyage"
   ]
  },
  {
   "cell_type": "code",
   "execution_count": 32,
   "metadata": {
    "scrolled": true
   },
   "outputs": [
    {
     "data": {
      "text/plain": [
       "Code service CH               100.000000\n",
       "Reference document            100.000000\n",
       "1 Articles CGI                100.000000\n",
       "2 Articles CGI                100.000000\n",
       "3 Articles CGI                100.000000\n",
       "4 Articles CGI                100.000000\n",
       "5 Articles CGI                100.000000\n",
       "No disposition                  0.000000\n",
       "Date mutation                   0.000000\n",
       "Nature mutation                 0.000000\n",
       "Valeur fonciere                 1.143674\n",
       "No voie                        41.052054\n",
       "B/T/Q                          95.663358\n",
       "Type de voie                   42.403334\n",
       "Code voie                       0.943528\n",
       "Voie                            0.944211\n",
       "Code postal                     0.947450\n",
       "Commune                         0.000000\n",
       "Code departement                0.000000\n",
       "Code commune                    0.000000\n",
       "Prefixe de section             95.415753\n",
       "Section                         0.002952\n",
       "No plan                         0.000000\n",
       "No Volume                      99.719755\n",
       "1er lot                        68.899306\n",
       "Surface Carrez du 1er lot      91.515561\n",
       "2eme lot                       93.452413\n",
       "Surface Carrez du 2eme lot     97.882853\n",
       "3eme lot                       98.907420\n",
       "Surface Carrez du 3eme lot     99.789918\n",
       "4eme lot                       99.623163\n",
       "Surface Carrez du 4eme lot     99.943973\n",
       "5eme lot                       99.821805\n",
       "Surface Carrez du 5eme lot     99.975721\n",
       "Nombre de lots                  0.000000\n",
       "Code type local                45.572805\n",
       "Type local                     45.572805\n",
       "Identifiant local             100.000000\n",
       "Surface reelle bati            45.647375\n",
       "Nombre pieces principales      45.647375\n",
       "Nature culture                 31.544306\n",
       "Nature culture speciale        95.525034\n",
       "Surface terrain                31.544306\n",
       "dtype: float64"
      ]
     },
     "execution_count": 32,
     "metadata": {},
     "output_type": "execute_result"
    }
   ],
   "source": [
    "rawdf.isnull().sum(axis=0)/len(rawdf)*100 # percentage of nan values"
   ]
  },
  {
   "cell_type": "code",
   "execution_count": 33,
   "metadata": {},
   "outputs": [],
   "source": [
    "# useful info about each column before cleaning\n",
    "useful_info = pd.DataFrame.from_records([(col, rawdf[col].nunique(), rawdf[col].dtype, rawdf[col].isnull().sum(axis=0)/len(rawdf)*100) \n",
    "                                            for col in rawdf.columns],\n",
    "                                          columns=['Column_Name', 'Num_Unique', 'Column_Dtype', 'Percentage of NaNs'])"
   ]
  },
  {
   "cell_type": "code",
   "execution_count": 34,
   "metadata": {
    "scrolled": true
   },
   "outputs": [
    {
     "data": {
      "text/html": [
       "<div>\n",
       "<style scoped>\n",
       "    .dataframe tbody tr th:only-of-type {\n",
       "        vertical-align: middle;\n",
       "    }\n",
       "\n",
       "    .dataframe tbody tr th {\n",
       "        vertical-align: top;\n",
       "    }\n",
       "\n",
       "    .dataframe thead th {\n",
       "        text-align: right;\n",
       "    }\n",
       "</style>\n",
       "<table border=\"1\" class=\"dataframe\">\n",
       "  <thead>\n",
       "    <tr style=\"text-align: right;\">\n",
       "      <th></th>\n",
       "      <th>Column_Name</th>\n",
       "      <th>Num_Unique</th>\n",
       "      <th>Column_Dtype</th>\n",
       "      <th>Percentage of NaNs</th>\n",
       "    </tr>\n",
       "  </thead>\n",
       "  <tbody>\n",
       "    <tr>\n",
       "      <th>0</th>\n",
       "      <td>Code service CH</td>\n",
       "      <td>0</td>\n",
       "      <td>float64</td>\n",
       "      <td>100.000000</td>\n",
       "    </tr>\n",
       "    <tr>\n",
       "      <th>1</th>\n",
       "      <td>Reference document</td>\n",
       "      <td>0</td>\n",
       "      <td>float64</td>\n",
       "      <td>100.000000</td>\n",
       "    </tr>\n",
       "    <tr>\n",
       "      <th>2</th>\n",
       "      <td>1 Articles CGI</td>\n",
       "      <td>0</td>\n",
       "      <td>float64</td>\n",
       "      <td>100.000000</td>\n",
       "    </tr>\n",
       "    <tr>\n",
       "      <th>3</th>\n",
       "      <td>2 Articles CGI</td>\n",
       "      <td>0</td>\n",
       "      <td>float64</td>\n",
       "      <td>100.000000</td>\n",
       "    </tr>\n",
       "    <tr>\n",
       "      <th>4</th>\n",
       "      <td>3 Articles CGI</td>\n",
       "      <td>0</td>\n",
       "      <td>float64</td>\n",
       "      <td>100.000000</td>\n",
       "    </tr>\n",
       "    <tr>\n",
       "      <th>5</th>\n",
       "      <td>4 Articles CGI</td>\n",
       "      <td>0</td>\n",
       "      <td>float64</td>\n",
       "      <td>100.000000</td>\n",
       "    </tr>\n",
       "    <tr>\n",
       "      <th>6</th>\n",
       "      <td>5 Articles CGI</td>\n",
       "      <td>0</td>\n",
       "      <td>float64</td>\n",
       "      <td>100.000000</td>\n",
       "    </tr>\n",
       "    <tr>\n",
       "      <th>7</th>\n",
       "      <td>No disposition</td>\n",
       "      <td>694</td>\n",
       "      <td>int64</td>\n",
       "      <td>0.000000</td>\n",
       "    </tr>\n",
       "    <tr>\n",
       "      <th>8</th>\n",
       "      <td>Date mutation</td>\n",
       "      <td>1093</td>\n",
       "      <td>datetime64[ns]</td>\n",
       "      <td>0.000000</td>\n",
       "    </tr>\n",
       "    <tr>\n",
       "      <th>9</th>\n",
       "      <td>Nature mutation</td>\n",
       "      <td>6</td>\n",
       "      <td>category</td>\n",
       "      <td>0.000000</td>\n",
       "    </tr>\n",
       "    <tr>\n",
       "      <th>10</th>\n",
       "      <td>Valeur fonciere</td>\n",
       "      <td>289322</td>\n",
       "      <td>object</td>\n",
       "      <td>1.143674</td>\n",
       "    </tr>\n",
       "    <tr>\n",
       "      <th>11</th>\n",
       "      <td>No voie</td>\n",
       "      <td>8549</td>\n",
       "      <td>float64</td>\n",
       "      <td>41.052054</td>\n",
       "    </tr>\n",
       "    <tr>\n",
       "      <th>12</th>\n",
       "      <td>B/T/Q</td>\n",
       "      <td>42</td>\n",
       "      <td>category</td>\n",
       "      <td>95.663358</td>\n",
       "    </tr>\n",
       "    <tr>\n",
       "      <th>13</th>\n",
       "      <td>Type de voie</td>\n",
       "      <td>144</td>\n",
       "      <td>category</td>\n",
       "      <td>42.403334</td>\n",
       "    </tr>\n",
       "    <tr>\n",
       "      <th>14</th>\n",
       "      <td>Code voie</td>\n",
       "      <td>19078</td>\n",
       "      <td>object</td>\n",
       "      <td>0.943528</td>\n",
       "    </tr>\n",
       "    <tr>\n",
       "      <th>15</th>\n",
       "      <td>Voie</td>\n",
       "      <td>827152</td>\n",
       "      <td>object</td>\n",
       "      <td>0.944211</td>\n",
       "    </tr>\n",
       "    <tr>\n",
       "      <th>16</th>\n",
       "      <td>Code postal</td>\n",
       "      <td>5873</td>\n",
       "      <td>float64</td>\n",
       "      <td>0.947450</td>\n",
       "    </tr>\n",
       "    <tr>\n",
       "      <th>17</th>\n",
       "      <td>Commune</td>\n",
       "      <td>31965</td>\n",
       "      <td>object</td>\n",
       "      <td>0.000000</td>\n",
       "    </tr>\n",
       "    <tr>\n",
       "      <th>18</th>\n",
       "      <td>Code departement</td>\n",
       "      <td>97</td>\n",
       "      <td>object</td>\n",
       "      <td>0.000000</td>\n",
       "    </tr>\n",
       "    <tr>\n",
       "      <th>19</th>\n",
       "      <td>Code commune</td>\n",
       "      <td>908</td>\n",
       "      <td>int64</td>\n",
       "      <td>0.000000</td>\n",
       "    </tr>\n",
       "    <tr>\n",
       "      <th>20</th>\n",
       "      <td>Prefixe de section</td>\n",
       "      <td>755</td>\n",
       "      <td>float64</td>\n",
       "      <td>95.415753</td>\n",
       "    </tr>\n",
       "    <tr>\n",
       "      <th>21</th>\n",
       "      <td>Section</td>\n",
       "      <td>587</td>\n",
       "      <td>object</td>\n",
       "      <td>0.002952</td>\n",
       "    </tr>\n",
       "    <tr>\n",
       "      <th>22</th>\n",
       "      <td>No plan</td>\n",
       "      <td>7872</td>\n",
       "      <td>int64</td>\n",
       "      <td>0.000000</td>\n",
       "    </tr>\n",
       "    <tr>\n",
       "      <th>23</th>\n",
       "      <td>No Volume</td>\n",
       "      <td>2000</td>\n",
       "      <td>object</td>\n",
       "      <td>99.719755</td>\n",
       "    </tr>\n",
       "    <tr>\n",
       "      <th>24</th>\n",
       "      <td>1er lot</td>\n",
       "      <td>20924</td>\n",
       "      <td>object</td>\n",
       "      <td>68.899306</td>\n",
       "    </tr>\n",
       "    <tr>\n",
       "      <th>25</th>\n",
       "      <td>Surface Carrez du 1er lot</td>\n",
       "      <td>24819</td>\n",
       "      <td>object</td>\n",
       "      <td>91.515561</td>\n",
       "    </tr>\n",
       "    <tr>\n",
       "      <th>26</th>\n",
       "      <td>2eme lot</td>\n",
       "      <td>9467</td>\n",
       "      <td>object</td>\n",
       "      <td>93.452413</td>\n",
       "    </tr>\n",
       "    <tr>\n",
       "      <th>27</th>\n",
       "      <td>Surface Carrez du 2eme lot</td>\n",
       "      <td>16075</td>\n",
       "      <td>object</td>\n",
       "      <td>97.882853</td>\n",
       "    </tr>\n",
       "    <tr>\n",
       "      <th>28</th>\n",
       "      <td>3eme lot</td>\n",
       "      <td>2506</td>\n",
       "      <td>object</td>\n",
       "      <td>98.907420</td>\n",
       "    </tr>\n",
       "    <tr>\n",
       "      <th>29</th>\n",
       "      <td>Surface Carrez du 3eme lot</td>\n",
       "      <td>9974</td>\n",
       "      <td>object</td>\n",
       "      <td>99.789918</td>\n",
       "    </tr>\n",
       "    <tr>\n",
       "      <th>30</th>\n",
       "      <td>4eme lot</td>\n",
       "      <td>1263</td>\n",
       "      <td>float64</td>\n",
       "      <td>99.623163</td>\n",
       "    </tr>\n",
       "    <tr>\n",
       "      <th>31</th>\n",
       "      <td>Surface Carrez du 4eme lot</td>\n",
       "      <td>3861</td>\n",
       "      <td>object</td>\n",
       "      <td>99.943973</td>\n",
       "    </tr>\n",
       "    <tr>\n",
       "      <th>32</th>\n",
       "      <td>5eme lot</td>\n",
       "      <td>938</td>\n",
       "      <td>object</td>\n",
       "      <td>99.821805</td>\n",
       "    </tr>\n",
       "    <tr>\n",
       "      <th>33</th>\n",
       "      <td>Surface Carrez du 5eme lot</td>\n",
       "      <td>1707</td>\n",
       "      <td>object</td>\n",
       "      <td>99.975721</td>\n",
       "    </tr>\n",
       "    <tr>\n",
       "      <th>34</th>\n",
       "      <td>Nombre de lots</td>\n",
       "      <td>113</td>\n",
       "      <td>int64</td>\n",
       "      <td>0.000000</td>\n",
       "    </tr>\n",
       "    <tr>\n",
       "      <th>35</th>\n",
       "      <td>Code type local</td>\n",
       "      <td>4</td>\n",
       "      <td>float64</td>\n",
       "      <td>45.572805</td>\n",
       "    </tr>\n",
       "    <tr>\n",
       "      <th>36</th>\n",
       "      <td>Type local</td>\n",
       "      <td>4</td>\n",
       "      <td>category</td>\n",
       "      <td>45.572805</td>\n",
       "    </tr>\n",
       "    <tr>\n",
       "      <th>37</th>\n",
       "      <td>Identifiant local</td>\n",
       "      <td>0</td>\n",
       "      <td>float64</td>\n",
       "      <td>100.000000</td>\n",
       "    </tr>\n",
       "    <tr>\n",
       "      <th>38</th>\n",
       "      <td>Surface reelle bati</td>\n",
       "      <td>7278</td>\n",
       "      <td>float64</td>\n",
       "      <td>45.647375</td>\n",
       "    </tr>\n",
       "    <tr>\n",
       "      <th>39</th>\n",
       "      <td>Nombre pieces principales</td>\n",
       "      <td>58</td>\n",
       "      <td>float64</td>\n",
       "      <td>45.647375</td>\n",
       "    </tr>\n",
       "    <tr>\n",
       "      <th>40</th>\n",
       "      <td>Nature culture</td>\n",
       "      <td>27</td>\n",
       "      <td>category</td>\n",
       "      <td>31.544306</td>\n",
       "    </tr>\n",
       "    <tr>\n",
       "      <th>41</th>\n",
       "      <td>Nature culture speciale</td>\n",
       "      <td>130</td>\n",
       "      <td>category</td>\n",
       "      <td>95.525034</td>\n",
       "    </tr>\n",
       "    <tr>\n",
       "      <th>42</th>\n",
       "      <td>Surface terrain</td>\n",
       "      <td>69829</td>\n",
       "      <td>float64</td>\n",
       "      <td>31.544306</td>\n",
       "    </tr>\n",
       "  </tbody>\n",
       "</table>\n",
       "</div>"
      ],
      "text/plain": [
       "                   Column_Name  Num_Unique    Column_Dtype  Percentage of NaNs\n",
       "0              Code service CH           0         float64          100.000000\n",
       "1           Reference document           0         float64          100.000000\n",
       "2               1 Articles CGI           0         float64          100.000000\n",
       "3               2 Articles CGI           0         float64          100.000000\n",
       "4               3 Articles CGI           0         float64          100.000000\n",
       "5               4 Articles CGI           0         float64          100.000000\n",
       "6               5 Articles CGI           0         float64          100.000000\n",
       "7               No disposition         694           int64            0.000000\n",
       "8                Date mutation        1093  datetime64[ns]            0.000000\n",
       "9              Nature mutation           6        category            0.000000\n",
       "10             Valeur fonciere      289322          object            1.143674\n",
       "11                     No voie        8549         float64           41.052054\n",
       "12                       B/T/Q          42        category           95.663358\n",
       "13                Type de voie         144        category           42.403334\n",
       "14                   Code voie       19078          object            0.943528\n",
       "15                        Voie      827152          object            0.944211\n",
       "16                 Code postal        5873         float64            0.947450\n",
       "17                     Commune       31965          object            0.000000\n",
       "18            Code departement          97          object            0.000000\n",
       "19                Code commune         908           int64            0.000000\n",
       "20          Prefixe de section         755         float64           95.415753\n",
       "21                     Section         587          object            0.002952\n",
       "22                     No plan        7872           int64            0.000000\n",
       "23                   No Volume        2000          object           99.719755\n",
       "24                     1er lot       20924          object           68.899306\n",
       "25   Surface Carrez du 1er lot       24819          object           91.515561\n",
       "26                    2eme lot        9467          object           93.452413\n",
       "27  Surface Carrez du 2eme lot       16075          object           97.882853\n",
       "28                    3eme lot        2506          object           98.907420\n",
       "29  Surface Carrez du 3eme lot        9974          object           99.789918\n",
       "30                    4eme lot        1263         float64           99.623163\n",
       "31  Surface Carrez du 4eme lot        3861          object           99.943973\n",
       "32                    5eme lot         938          object           99.821805\n",
       "33  Surface Carrez du 5eme lot        1707          object           99.975721\n",
       "34              Nombre de lots         113           int64            0.000000\n",
       "35             Code type local           4         float64           45.572805\n",
       "36                  Type local           4        category           45.572805\n",
       "37           Identifiant local           0         float64          100.000000\n",
       "38         Surface reelle bati        7278         float64           45.647375\n",
       "39   Nombre pieces principales          58         float64           45.647375\n",
       "40              Nature culture          27        category           31.544306\n",
       "41     Nature culture speciale         130        category           95.525034\n",
       "42             Surface terrain       69829         float64           31.544306"
      ]
     },
     "execution_count": 34,
     "metadata": {},
     "output_type": "execute_result"
    }
   ],
   "source": [
    "useful_info"
   ]
  },
  {
   "cell_type": "code",
   "execution_count": 35,
   "metadata": {},
   "outputs": [],
   "source": [
    "# drop colummns with too many nans\n",
    "drop_treshold = rawdf.shape[0]*0.4\n",
    "cleandf = rawdf.dropna(thresh=drop_treshold, axis='columns').copy()"
   ]
  },
  {
   "cell_type": "code",
   "execution_count": 36,
   "metadata": {},
   "outputs": [],
   "source": [
    "# drop all nans from Valeur foncière since it's the field we want to predict\n",
    "cleandf.dropna(axis=0, subset=['Valeur fonciere'], inplace=True)"
   ]
  },
  {
   "cell_type": "code",
   "execution_count": 37,
   "metadata": {},
   "outputs": [],
   "source": [
    "# drop all nans from Nombre pieces principales\n",
    "cleandf.dropna(axis=0, subset=['Nombre pieces principales'], inplace=True)"
   ]
  },
  {
   "cell_type": "code",
   "execution_count": 38,
   "metadata": {},
   "outputs": [],
   "source": [
    "# drop all nans from Surface reelle bati\n",
    "cleandf.dropna(axis=0, subset=['Surface reelle bati'], inplace=True)"
   ]
  },
  {
   "cell_type": "code",
   "execution_count": 39,
   "metadata": {},
   "outputs": [],
   "source": [
    "# drop all nans from remaining rows\n",
    "cleandf.dropna(axis=0, inplace=True)"
   ]
  },
  {
   "cell_type": "code",
   "execution_count": 40,
   "metadata": {},
   "outputs": [],
   "source": [
    "# these are numbers but should be considered as categories\n",
    "to_categorical = ['No disposition', 'No voie', 'Code postal', 'Code commune', 'No plan', 'Code departement', 'Section']\n",
    "for colname in to_categorical:\n",
    "    cleandf[colname] = cleandf[colname].astype('category')"
   ]
  },
  {
   "cell_type": "code",
   "execution_count": 41,
   "metadata": {
    "scrolled": true
   },
   "outputs": [
    {
     "name": "stdout",
     "output_type": "stream",
     "text": [
      "<class 'pandas.core.frame.DataFrame'>\n",
      "Int64Index: 2322257 entries, 2 to 3149480\n",
      "Data columns (total 21 columns):\n",
      " #   Column                     Dtype         \n",
      "---  ------                     -----         \n",
      " 0   No disposition             category      \n",
      " 1   Date mutation              datetime64[ns]\n",
      " 2   Nature mutation            category      \n",
      " 3   Valeur fonciere            object        \n",
      " 4   No voie                    category      \n",
      " 5   Type de voie               category      \n",
      " 6   Code voie                  object        \n",
      " 7   Voie                       object        \n",
      " 8   Code postal                category      \n",
      " 9   Commune                    object        \n",
      " 10  Code departement           category      \n",
      " 11  Code commune               category      \n",
      " 12  Section                    category      \n",
      " 13  No plan                    category      \n",
      " 14  Nombre de lots             int64         \n",
      " 15  Code type local            float64       \n",
      " 16  Type local                 category      \n",
      " 17  Surface reelle bati        float64       \n",
      " 18  Nombre pieces principales  float64       \n",
      " 19  Nature culture             category      \n",
      " 20  Surface terrain            float64       \n",
      "dtypes: category(11), datetime64[ns](1), float64(4), int64(1), object(4)\n",
      "memory usage: 233.4+ MB\n"
     ]
    }
   ],
   "source": [
    "cleandf.info()"
   ]
  },
  {
   "cell_type": "code",
   "execution_count": 42,
   "metadata": {
    "scrolled": true
   },
   "outputs": [
    {
     "data": {
      "text/plain": [
       "(2322257, 2322257, 2322257)"
      ]
     },
     "execution_count": 42,
     "metadata": {},
     "output_type": "execute_result"
    }
   ],
   "source": [
    "len(cleandf['Valeur fonciere']), len(cleandf['Date mutation']), len(cleandf['Voie'])"
   ]
  },
  {
   "cell_type": "code",
   "execution_count": 43,
   "metadata": {},
   "outputs": [],
   "source": [
    "useful_info_clean = pd.DataFrame.from_records([(col, cleandf[col].nunique(), cleandf[col].dtype, cleandf[col].isnull().sum(axis=0)/len(cleandf)*100) \n",
    "                                            for col in cleandf.columns],\n",
    "                                          columns=['Column_Name', 'Num_Unique', 'Column_Dtype', 'Percentage of NaNs'])"
   ]
  },
  {
   "cell_type": "code",
   "execution_count": 44,
   "metadata": {
    "scrolled": true
   },
   "outputs": [
    {
     "data": {
      "text/html": [
       "<div>\n",
       "<style scoped>\n",
       "    .dataframe tbody tr th:only-of-type {\n",
       "        vertical-align: middle;\n",
       "    }\n",
       "\n",
       "    .dataframe tbody tr th {\n",
       "        vertical-align: top;\n",
       "    }\n",
       "\n",
       "    .dataframe thead th {\n",
       "        text-align: right;\n",
       "    }\n",
       "</style>\n",
       "<table border=\"1\" class=\"dataframe\">\n",
       "  <thead>\n",
       "    <tr style=\"text-align: right;\">\n",
       "      <th></th>\n",
       "      <th>Column_Name</th>\n",
       "      <th>Num_Unique</th>\n",
       "      <th>Column_Dtype</th>\n",
       "      <th>Percentage of NaNs</th>\n",
       "    </tr>\n",
       "  </thead>\n",
       "  <tbody>\n",
       "    <tr>\n",
       "      <th>0</th>\n",
       "      <td>No disposition</td>\n",
       "      <td>55</td>\n",
       "      <td>category</td>\n",
       "      <td>0.0</td>\n",
       "    </tr>\n",
       "    <tr>\n",
       "      <th>1</th>\n",
       "      <td>Date mutation</td>\n",
       "      <td>1051</td>\n",
       "      <td>datetime64[ns]</td>\n",
       "      <td>0.0</td>\n",
       "    </tr>\n",
       "    <tr>\n",
       "      <th>2</th>\n",
       "      <td>Nature mutation</td>\n",
       "      <td>6</td>\n",
       "      <td>category</td>\n",
       "      <td>0.0</td>\n",
       "    </tr>\n",
       "    <tr>\n",
       "      <th>3</th>\n",
       "      <td>Valeur fonciere</td>\n",
       "      <td>96128</td>\n",
       "      <td>object</td>\n",
       "      <td>0.0</td>\n",
       "    </tr>\n",
       "    <tr>\n",
       "      <th>4</th>\n",
       "      <td>No voie</td>\n",
       "      <td>7547</td>\n",
       "      <td>category</td>\n",
       "      <td>0.0</td>\n",
       "    </tr>\n",
       "    <tr>\n",
       "      <th>5</th>\n",
       "      <td>Type de voie</td>\n",
       "      <td>137</td>\n",
       "      <td>category</td>\n",
       "      <td>0.0</td>\n",
       "    </tr>\n",
       "    <tr>\n",
       "      <th>6</th>\n",
       "      <td>Code voie</td>\n",
       "      <td>9710</td>\n",
       "      <td>object</td>\n",
       "      <td>0.0</td>\n",
       "    </tr>\n",
       "    <tr>\n",
       "      <th>7</th>\n",
       "      <td>Voie</td>\n",
       "      <td>231337</td>\n",
       "      <td>object</td>\n",
       "      <td>0.0</td>\n",
       "    </tr>\n",
       "    <tr>\n",
       "      <th>8</th>\n",
       "      <td>Code postal</td>\n",
       "      <td>5738</td>\n",
       "      <td>category</td>\n",
       "      <td>0.0</td>\n",
       "    </tr>\n",
       "    <tr>\n",
       "      <th>9</th>\n",
       "      <td>Commune</td>\n",
       "      <td>26966</td>\n",
       "      <td>object</td>\n",
       "      <td>0.0</td>\n",
       "    </tr>\n",
       "    <tr>\n",
       "      <th>10</th>\n",
       "      <td>Code departement</td>\n",
       "      <td>97</td>\n",
       "      <td>category</td>\n",
       "      <td>0.0</td>\n",
       "    </tr>\n",
       "    <tr>\n",
       "      <th>11</th>\n",
       "      <td>Code commune</td>\n",
       "      <td>908</td>\n",
       "      <td>category</td>\n",
       "      <td>0.0</td>\n",
       "    </tr>\n",
       "    <tr>\n",
       "      <th>12</th>\n",
       "      <td>Section</td>\n",
       "      <td>577</td>\n",
       "      <td>category</td>\n",
       "      <td>0.0</td>\n",
       "    </tr>\n",
       "    <tr>\n",
       "      <th>13</th>\n",
       "      <td>No plan</td>\n",
       "      <td>6187</td>\n",
       "      <td>category</td>\n",
       "      <td>0.0</td>\n",
       "    </tr>\n",
       "    <tr>\n",
       "      <th>14</th>\n",
       "      <td>Nombre de lots</td>\n",
       "      <td>2</td>\n",
       "      <td>int64</td>\n",
       "      <td>0.0</td>\n",
       "    </tr>\n",
       "    <tr>\n",
       "      <th>15</th>\n",
       "      <td>Code type local</td>\n",
       "      <td>4</td>\n",
       "      <td>float64</td>\n",
       "      <td>0.0</td>\n",
       "    </tr>\n",
       "    <tr>\n",
       "      <th>16</th>\n",
       "      <td>Type local</td>\n",
       "      <td>4</td>\n",
       "      <td>category</td>\n",
       "      <td>0.0</td>\n",
       "    </tr>\n",
       "    <tr>\n",
       "      <th>17</th>\n",
       "      <td>Surface reelle bati</td>\n",
       "      <td>6181</td>\n",
       "      <td>float64</td>\n",
       "      <td>0.0</td>\n",
       "    </tr>\n",
       "    <tr>\n",
       "      <th>18</th>\n",
       "      <td>Nombre pieces principales</td>\n",
       "      <td>53</td>\n",
       "      <td>float64</td>\n",
       "      <td>0.0</td>\n",
       "    </tr>\n",
       "    <tr>\n",
       "      <th>19</th>\n",
       "      <td>Nature culture</td>\n",
       "      <td>26</td>\n",
       "      <td>category</td>\n",
       "      <td>0.0</td>\n",
       "    </tr>\n",
       "    <tr>\n",
       "      <th>20</th>\n",
       "      <td>Surface terrain</td>\n",
       "      <td>14139</td>\n",
       "      <td>float64</td>\n",
       "      <td>0.0</td>\n",
       "    </tr>\n",
       "  </tbody>\n",
       "</table>\n",
       "</div>"
      ],
      "text/plain": [
       "                  Column_Name  Num_Unique    Column_Dtype  Percentage of NaNs\n",
       "0              No disposition          55        category                 0.0\n",
       "1               Date mutation        1051  datetime64[ns]                 0.0\n",
       "2             Nature mutation           6        category                 0.0\n",
       "3             Valeur fonciere       96128          object                 0.0\n",
       "4                     No voie        7547        category                 0.0\n",
       "5                Type de voie         137        category                 0.0\n",
       "6                   Code voie        9710          object                 0.0\n",
       "7                        Voie      231337          object                 0.0\n",
       "8                 Code postal        5738        category                 0.0\n",
       "9                     Commune       26966          object                 0.0\n",
       "10           Code departement          97        category                 0.0\n",
       "11               Code commune         908        category                 0.0\n",
       "12                    Section         577        category                 0.0\n",
       "13                    No plan        6187        category                 0.0\n",
       "14             Nombre de lots           2           int64                 0.0\n",
       "15            Code type local           4         float64                 0.0\n",
       "16                 Type local           4        category                 0.0\n",
       "17        Surface reelle bati        6181         float64                 0.0\n",
       "18  Nombre pieces principales          53         float64                 0.0\n",
       "19             Nature culture          26        category                 0.0\n",
       "20            Surface terrain       14139         float64                 0.0"
      ]
     },
     "execution_count": 44,
     "metadata": {},
     "output_type": "execute_result"
    }
   ],
   "source": [
    "useful_info_clean"
   ]
  },
  {
   "cell_type": "code",
   "execution_count": 45,
   "metadata": {},
   "outputs": [],
   "source": [
    "# free some memory\n",
    "del rawdf\n",
    "del useful_info\n",
    "del useful_info_clean"
   ]
  },
  {
   "cell_type": "markdown",
   "metadata": {},
   "source": [
    "### Un peu d'exploration des données"
   ]
  },
  {
   "cell_type": "markdown",
   "metadata": {},
   "source": [
    "### Champ à prédire"
   ]
  },
  {
   "cell_type": "markdown",
   "metadata": {},
   "source": [
    "#### Valeur foncière\n",
    "Il s’agit du montant ou de l’évaluation déclaré(e) dans le cadre d’une mutation à titre onéreux. La valeur foncière :  \n",
    "inclut :  \n",
    "    • les frais d’agence, s’ils sont à la charge du vendeur.  \n",
    "    • l’éventuelle TVA.  \n",
    "exclut :  \n",
    "    • les frais d’agence, s’ils sont à la charge de l’acquéreur.  \n",
    "    • les frais de notaires.  "
   ]
  },
  {
   "cell_type": "code",
   "execution_count": 46,
   "metadata": {
    "scrolled": true
   },
   "outputs": [
    {
     "data": {
      "text/plain": [
       "2     239300,00\n",
       "3     239300,00\n",
       "4     239300,00\n",
       "5     239300,00\n",
       "22     47700,00\n",
       "Name: Valeur fonciere, dtype: object"
      ]
     },
     "execution_count": 46,
     "metadata": {},
     "output_type": "execute_result"
    }
   ],
   "source": [
    "cleandf['Valeur fonciere'].head()"
   ]
  },
  {
   "cell_type": "code",
   "execution_count": 47,
   "metadata": {},
   "outputs": [
    {
     "data": {
      "text/plain": [
       "dtype('O')"
      ]
     },
     "execution_count": 47,
     "metadata": {},
     "output_type": "execute_result"
    }
   ],
   "source": [
    "cleandf['Valeur fonciere'].dtype"
   ]
  },
  {
   "cell_type": "code",
   "execution_count": 48,
   "metadata": {},
   "outputs": [
    {
     "data": {
      "text/plain": [
       "dtype('float64')"
      ]
     },
     "execution_count": 48,
     "metadata": {},
     "output_type": "execute_result"
    }
   ],
   "source": [
    "cleandf['Valeur fonciere'] = cleandf['Valeur fonciere'].str.replace(',', '.').astype(float)\n",
    "cleandf['Valeur fonciere'].dtype"
   ]
  },
  {
   "cell_type": "code",
   "execution_count": 49,
   "metadata": {
    "scrolled": false
   },
   "outputs": [
    {
     "data": {
      "text/plain": [
       "count    2.322257e+06\n",
       "mean     2.185093e+06\n",
       "std      1.606789e+07\n",
       "min      1.500000e-01\n",
       "25%      1.230000e+05\n",
       "50%      2.060000e+05\n",
       "75%      3.697800e+05\n",
       "max      1.249132e+09\n",
       "Name: Valeur fonciere, dtype: float64"
      ]
     },
     "execution_count": 49,
     "metadata": {},
     "output_type": "execute_result"
    }
   ],
   "source": [
    "cleandf['Valeur fonciere'].describe()"
   ]
  },
  {
   "cell_type": "code",
   "execution_count": 50,
   "metadata": {},
   "outputs": [
    {
     "data": {
      "text/plain": [
       "[<matplotlib.lines.Line2D at 0x1adfbea2910>]"
      ]
     },
     "execution_count": 50,
     "metadata": {},
     "output_type": "execute_result"
    },
    {
     "data": {
      "image/png": "[encoded data removed]",
      "text/plain": [
       "<Figure size 432x288 with 1 Axes>"
      ]
     },
     "metadata": {
      "needs_background": "light"
     },
     "output_type": "display_data"
    }
   ],
   "source": [
    "plt.plot(cleandf['Valeur fonciere'])"
   ]
  },
  {
   "cell_type": "code",
   "execution_count": 51,
   "metadata": {
    "scrolled": true
   },
   "outputs": [
    {
     "data": {
      "text/plain": [
       "count    2.322257e+06\n",
       "mean     2.185093e+06\n",
       "std      1.606789e+07\n",
       "min      1.500000e-01\n",
       "25%      1.230000e+05\n",
       "50%      2.060000e+05\n",
       "75%      3.697800e+05\n",
       "max      1.249132e+09\n",
       "Name: Valeur fonciere, dtype: float64"
      ]
     },
     "execution_count": 51,
     "metadata": {},
     "output_type": "execute_result"
    }
   ],
   "source": [
    "cleandf['Valeur fonciere'].describe()"
   ]
  },
  {
   "cell_type": "markdown",
   "metadata": {},
   "source": [
    "### Champs à utiliser pour prédire"
   ]
  },
  {
   "cell_type": "markdown",
   "metadata": {},
   "source": [
    "#### Commune"
   ]
  },
  {
   "cell_type": "code",
   "execution_count": 52,
   "metadata": {},
   "outputs": [
    {
     "data": {
      "text/plain": [
       "2     NIVIGNE ET SURAN\n",
       "3     NIVIGNE ET SURAN\n",
       "4     NIVIGNE ET SURAN\n",
       "5     NIVIGNE ET SURAN\n",
       "22                LENT\n",
       "Name: Commune, dtype: object"
      ]
     },
     "execution_count": 52,
     "metadata": {},
     "output_type": "execute_result"
    }
   ],
   "source": [
    "cleandf['Commune'].head()"
   ]
  },
  {
   "cell_type": "markdown",
   "metadata": {},
   "source": [
    "#### Superficie"
   ]
  },
  {
   "cell_type": "code",
   "execution_count": 53,
   "metadata": {
    "scrolled": true
   },
   "outputs": [
    {
     "data": {
      "text/plain": [
       "2     163.0\n",
       "3      51.0\n",
       "4     163.0\n",
       "5      51.0\n",
       "22    225.0\n",
       "Name: Surface reelle bati, dtype: float64"
      ]
     },
     "execution_count": 53,
     "metadata": {},
     "output_type": "execute_result"
    }
   ],
   "source": [
    "cleandf['Surface reelle bati'].head()"
   ]
  },
  {
   "cell_type": "code",
   "execution_count": 54,
   "metadata": {},
   "outputs": [
    {
     "data": {
      "text/plain": [
       "count    2.322257e+06\n",
       "mean     1.209724e+02\n",
       "std      7.201582e+02\n",
       "min      0.000000e+00\n",
       "25%      5.100000e+01\n",
       "50%      8.400000e+01\n",
       "75%      1.150000e+02\n",
       "max      1.528560e+05\n",
       "Name: Surface reelle bati, dtype: float64"
      ]
     },
     "execution_count": 54,
     "metadata": {},
     "output_type": "execute_result"
    }
   ],
   "source": [
    "cleandf['Surface reelle bati'].describe()"
   ]
  },
  {
   "cell_type": "code",
   "execution_count": 55,
   "metadata": {
    "scrolled": true
   },
   "outputs": [
    {
     "data": {
      "text/plain": [
       "[<matplotlib.lines.Line2D at 0x1ae4b387730>]"
      ]
     },
     "execution_count": 55,
     "metadata": {},
     "output_type": "execute_result"
    },
    {
     "data": {
      "image/png": "[encoded data removed]",
      "text/plain": [
       "<Figure size 432x288 with 1 Axes>"
      ]
     },
     "metadata": {
      "needs_background": "light"
     },
     "output_type": "display_data"
    }
   ],
   "source": [
    "plt.plot(cleandf['Surface reelle bati'])"
   ]
  },
  {
   "cell_type": "markdown",
   "metadata": {},
   "source": [
    "#### Nombre de pièces"
   ]
  },
  {
   "cell_type": "code",
   "execution_count": 56,
   "metadata": {},
   "outputs": [
    {
     "data": {
      "text/plain": [
       "2     4.0\n",
       "3     2.0\n",
       "4     4.0\n",
       "5     2.0\n",
       "22    5.0\n",
       "Name: Nombre pieces principales, dtype: float64"
      ]
     },
     "execution_count": 56,
     "metadata": {},
     "output_type": "execute_result"
    }
   ],
   "source": [
    "cleandf['Nombre pieces principales'].head()"
   ]
  },
  {
   "cell_type": "code",
   "execution_count": 57,
   "metadata": {
    "scrolled": true
   },
   "outputs": [
    {
     "data": {
      "text/plain": [
       "count    2.322257e+06\n",
       "mean     3.258858e+00\n",
       "std      2.111434e+00\n",
       "min      0.000000e+00\n",
       "25%      2.000000e+00\n",
       "50%      4.000000e+00\n",
       "75%      5.000000e+00\n",
       "max      1.090000e+02\n",
       "Name: Nombre pieces principales, dtype: float64"
      ]
     },
     "execution_count": 57,
     "metadata": {},
     "output_type": "execute_result"
    }
   ],
   "source": [
    "cleandf['Nombre pieces principales'].describe()"
   ]
  },
  {
   "cell_type": "code",
   "execution_count": 58,
   "metadata": {},
   "outputs": [
    {
     "data": {
      "text/plain": [
       "[<matplotlib.lines.Line2D at 0x1ae87b57a90>]"
      ]
     },
     "execution_count": 58,
     "metadata": {},
     "output_type": "execute_result"
    },
    {
     "data": {
      "image/png": "[encoded data removed]",
      "text/plain": [
       "<Figure size 432x288 with 1 Axes>"
      ]
     },
     "metadata": {
      "needs_background": "light"
     },
     "output_type": "display_data"
    }
   ],
   "source": [
    "plt.plot(cleandf['Nombre pieces principales'])"
   ]
  },
  {
   "cell_type": "markdown",
   "metadata": {},
   "source": [
    "#### Année de transaction"
   ]
  },
  {
   "cell_type": "code",
   "execution_count": 59,
   "metadata": {
    "scrolled": true
   },
   "outputs": [
    {
     "name": "stdout",
     "output_type": "stream",
     "text": [
      "datetime64[ns]\n"
     ]
    },
    {
     "data": {
      "text/plain": [
       "2    2018-04-01\n",
       "3    2018-04-01\n",
       "4    2018-04-01\n",
       "5    2018-04-01\n",
       "22   2018-08-01\n",
       "Name: Date mutation, dtype: datetime64[ns]"
      ]
     },
     "execution_count": 59,
     "metadata": {},
     "output_type": "execute_result"
    }
   ],
   "source": [
    "print(cleandf['Date mutation'].dtype)\n",
    "cleandf['Date mutation'].head()"
   ]
  },
  {
   "cell_type": "markdown",
   "metadata": {},
   "source": [
    "### Dataframe avec seulement les paramètres minimum pour voir les performances de base"
   ]
  },
  {
   "cell_type": "code",
   "execution_count": 60,
   "metadata": {},
   "outputs": [],
   "source": [
    "columns = ['Valeur fonciere', 'Date mutation', 'Code commune', 'Nombre pieces principales', 'Surface reelle bati']\n",
    "minimaldf = pd.DataFrame(cleandf, columns=columns)"
   ]
  },
  {
   "cell_type": "code",
   "execution_count": 61,
   "metadata": {},
   "outputs": [],
   "source": [
    "minimaldf['Annee transaction'] = minimaldf['Date mutation'].apply(lambda x: x.year)"
   ]
  },
  {
   "cell_type": "code",
   "execution_count": 62,
   "metadata": {
    "scrolled": true
   },
   "outputs": [
    {
     "data": {
      "text/html": [
       "<div>\n",
       "<style scoped>\n",
       "    .dataframe tbody tr th:only-of-type {\n",
       "        vertical-align: middle;\n",
       "    }\n",
       "\n",
       "    .dataframe tbody tr th {\n",
       "        vertical-align: top;\n",
       "    }\n",
       "\n",
       "    .dataframe thead th {\n",
       "        text-align: right;\n",
       "    }\n",
       "</style>\n",
       "<table border=\"1\" class=\"dataframe\">\n",
       "  <thead>\n",
       "    <tr style=\"text-align: right;\">\n",
       "      <th></th>\n",
       "      <th>Valeur fonciere</th>\n",
       "      <th>Date mutation</th>\n",
       "      <th>Code commune</th>\n",
       "      <th>Nombre pieces principales</th>\n",
       "      <th>Surface reelle bati</th>\n",
       "      <th>Annee transaction</th>\n",
       "    </tr>\n",
       "  </thead>\n",
       "  <tbody>\n",
       "    <tr>\n",
       "      <th>2</th>\n",
       "      <td>239300.0</td>\n",
       "      <td>2018-04-01</td>\n",
       "      <td>95</td>\n",
       "      <td>4.0</td>\n",
       "      <td>163.0</td>\n",
       "      <td>2018</td>\n",
       "    </tr>\n",
       "    <tr>\n",
       "      <th>3</th>\n",
       "      <td>239300.0</td>\n",
       "      <td>2018-04-01</td>\n",
       "      <td>95</td>\n",
       "      <td>2.0</td>\n",
       "      <td>51.0</td>\n",
       "      <td>2018</td>\n",
       "    </tr>\n",
       "    <tr>\n",
       "      <th>4</th>\n",
       "      <td>239300.0</td>\n",
       "      <td>2018-04-01</td>\n",
       "      <td>95</td>\n",
       "      <td>4.0</td>\n",
       "      <td>163.0</td>\n",
       "      <td>2018</td>\n",
       "    </tr>\n",
       "    <tr>\n",
       "      <th>5</th>\n",
       "      <td>239300.0</td>\n",
       "      <td>2018-04-01</td>\n",
       "      <td>95</td>\n",
       "      <td>2.0</td>\n",
       "      <td>51.0</td>\n",
       "      <td>2018</td>\n",
       "    </tr>\n",
       "    <tr>\n",
       "      <th>22</th>\n",
       "      <td>47700.0</td>\n",
       "      <td>2018-08-01</td>\n",
       "      <td>211</td>\n",
       "      <td>5.0</td>\n",
       "      <td>225.0</td>\n",
       "      <td>2018</td>\n",
       "    </tr>\n",
       "  </tbody>\n",
       "</table>\n",
       "</div>"
      ],
      "text/plain": [
       "    Valeur fonciere Date mutation Code commune  Nombre pieces principales  \\\n",
       "2          239300.0    2018-04-01           95                        4.0   \n",
       "3          239300.0    2018-04-01           95                        2.0   \n",
       "4          239300.0    2018-04-01           95                        4.0   \n",
       "5          239300.0    2018-04-01           95                        2.0   \n",
       "22          47700.0    2018-08-01          211                        5.0   \n",
       "\n",
       "    Surface reelle bati  Annee transaction  \n",
       "2                 163.0               2018  \n",
       "3                  51.0               2018  \n",
       "4                 163.0               2018  \n",
       "5                  51.0               2018  \n",
       "22                225.0               2018  "
      ]
     },
     "execution_count": 62,
     "metadata": {},
     "output_type": "execute_result"
    }
   ],
   "source": [
    "minimaldf.head()"
   ]
  },
  {
   "cell_type": "code",
   "execution_count": 63,
   "metadata": {
    "scrolled": false
   },
   "outputs": [
    {
     "data": {
      "text/html": [
       "<div>\n",
       "<style scoped>\n",
       "    .dataframe tbody tr th:only-of-type {\n",
       "        vertical-align: middle;\n",
       "    }\n",
       "\n",
       "    .dataframe tbody tr th {\n",
       "        vertical-align: top;\n",
       "    }\n",
       "\n",
       "    .dataframe thead th {\n",
       "        text-align: right;\n",
       "    }\n",
       "</style>\n",
       "<table border=\"1\" class=\"dataframe\">\n",
       "  <thead>\n",
       "    <tr style=\"text-align: right;\">\n",
       "      <th></th>\n",
       "      <th>Valeur fonciere</th>\n",
       "      <th>Code commune</th>\n",
       "      <th>Nombre pieces principales</th>\n",
       "      <th>Surface reelle bati</th>\n",
       "      <th>Annee transaction</th>\n",
       "    </tr>\n",
       "  </thead>\n",
       "  <tbody>\n",
       "    <tr>\n",
       "      <th>2</th>\n",
       "      <td>239300.0</td>\n",
       "      <td>95</td>\n",
       "      <td>4.0</td>\n",
       "      <td>163.0</td>\n",
       "      <td>2018</td>\n",
       "    </tr>\n",
       "    <tr>\n",
       "      <th>3</th>\n",
       "      <td>239300.0</td>\n",
       "      <td>95</td>\n",
       "      <td>2.0</td>\n",
       "      <td>51.0</td>\n",
       "      <td>2018</td>\n",
       "    </tr>\n",
       "    <tr>\n",
       "      <th>4</th>\n",
       "      <td>239300.0</td>\n",
       "      <td>95</td>\n",
       "      <td>4.0</td>\n",
       "      <td>163.0</td>\n",
       "      <td>2018</td>\n",
       "    </tr>\n",
       "    <tr>\n",
       "      <th>5</th>\n",
       "      <td>239300.0</td>\n",
       "      <td>95</td>\n",
       "      <td>2.0</td>\n",
       "      <td>51.0</td>\n",
       "      <td>2018</td>\n",
       "    </tr>\n",
       "    <tr>\n",
       "      <th>22</th>\n",
       "      <td>47700.0</td>\n",
       "      <td>211</td>\n",
       "      <td>5.0</td>\n",
       "      <td>225.0</td>\n",
       "      <td>2018</td>\n",
       "    </tr>\n",
       "  </tbody>\n",
       "</table>\n",
       "</div>"
      ],
      "text/plain": [
       "    Valeur fonciere Code commune  Nombre pieces principales  \\\n",
       "2          239300.0           95                        4.0   \n",
       "3          239300.0           95                        2.0   \n",
       "4          239300.0           95                        4.0   \n",
       "5          239300.0           95                        2.0   \n",
       "22          47700.0          211                        5.0   \n",
       "\n",
       "    Surface reelle bati  Annee transaction  \n",
       "2                 163.0               2018  \n",
       "3                  51.0               2018  \n",
       "4                 163.0               2018  \n",
       "5                  51.0               2018  \n",
       "22                225.0               2018  "
      ]
     },
     "execution_count": 63,
     "metadata": {},
     "output_type": "execute_result"
    }
   ],
   "source": [
    "minimaldf.drop(['Date mutation'], axis='columns', inplace=True)\n",
    "minimaldf.head()"
   ]
  },
  {
   "cell_type": "code",
   "execution_count": 97,
   "metadata": {},
   "outputs": [
    {
     "data": {
      "text/plain": [
       "Index(['Valeur fonciere', 'Code commune', 'Nombre pieces principales',\n",
       "       'Surface reelle bati', 'Annee transaction'],\n",
       "      dtype='object')"
      ]
     },
     "execution_count": 97,
     "metadata": {},
     "output_type": "execute_result"
    }
   ],
   "source": [
    "(minimaldf.columns)"
   ]
  },
  {
   "cell_type": "code",
   "execution_count": 98,
   "metadata": {},
   "outputs": [
    {
     "data": {
      "text/plain": [
       "Index(['Code commune', 'Nombre pieces principales', 'Surface reelle bati',\n",
       "       'Annee transaction'],\n",
       "      dtype='object')"
      ]
     },
     "execution_count": 98,
     "metadata": {},
     "output_type": "execute_result"
    }
   ],
   "source": [
    "X_train_min.columns"
   ]
  },
  {
   "cell_type": "code",
   "execution_count": 64,
   "metadata": {},
   "outputs": [
    {
     "data": {
      "text/plain": [
       "count    2.322257e+06\n",
       "mean     2.185093e+06\n",
       "std      1.606789e+07\n",
       "min      1.500000e-01\n",
       "25%      1.230000e+05\n",
       "50%      2.060000e+05\n",
       "75%      3.697800e+05\n",
       "max      1.249132e+09\n",
       "Name: Valeur fonciere, dtype: float64"
      ]
     },
     "execution_count": 64,
     "metadata": {},
     "output_type": "execute_result"
    }
   ],
   "source": [
    "minimaldf['Valeur fonciere'].describe()"
   ]
  },
  {
   "cell_type": "code",
   "execution_count": 65,
   "metadata": {
    "scrolled": true
   },
   "outputs": [
    {
     "data": {
      "text/plain": [
       "150000.0    25449\n",
       "100000.0    22941\n",
       "120000.0    22457\n",
       "200000.0    22213\n",
       "160000.0    19967\n",
       "            ...  \n",
       "580290.0        1\n",
       "580277.0        1\n",
       "580160.0        1\n",
       "580150.0        1\n",
       "473350.0        1\n",
       "Name: Valeur fonciere, Length: 96128, dtype: int64"
      ]
     },
     "execution_count": 65,
     "metadata": {},
     "output_type": "execute_result"
    }
   ],
   "source": [
    "minimaldf['Valeur fonciere'].value_counts()"
   ]
  },
  {
   "cell_type": "markdown",
   "metadata": {},
   "source": [
    "### Dataframe avec les colonnes intéressantes"
   ]
  },
  {
   "cell_type": "code",
   "execution_count": 66,
   "metadata": {},
   "outputs": [],
   "source": [
    "columns = ['Valeur fonciere', 'Date mutation', 'Code commune', 'Nombre pieces principales', 'Surface reelle bati',\n",
    "           'Nature mutation', 'Type de voie', 'Code departement', 'Type local', 'Nature culture']\n",
    "df = pd.DataFrame(cleandf, columns=columns)"
   ]
  },
  {
   "cell_type": "code",
   "execution_count": 67,
   "metadata": {},
   "outputs": [
    {
     "data": {
      "text/html": [
       "<div>\n",
       "<style scoped>\n",
       "    .dataframe tbody tr th:only-of-type {\n",
       "        vertical-align: middle;\n",
       "    }\n",
       "\n",
       "    .dataframe tbody tr th {\n",
       "        vertical-align: top;\n",
       "    }\n",
       "\n",
       "    .dataframe thead th {\n",
       "        text-align: right;\n",
       "    }\n",
       "</style>\n",
       "<table border=\"1\" class=\"dataframe\">\n",
       "  <thead>\n",
       "    <tr style=\"text-align: right;\">\n",
       "      <th></th>\n",
       "      <th>Valeur fonciere</th>\n",
       "      <th>Date mutation</th>\n",
       "      <th>Code commune</th>\n",
       "      <th>Nombre pieces principales</th>\n",
       "      <th>Surface reelle bati</th>\n",
       "      <th>Nature mutation</th>\n",
       "      <th>Type de voie</th>\n",
       "      <th>Code departement</th>\n",
       "      <th>Type local</th>\n",
       "      <th>Nature culture</th>\n",
       "    </tr>\n",
       "  </thead>\n",
       "  <tbody>\n",
       "    <tr>\n",
       "      <th>2</th>\n",
       "      <td>239300.0</td>\n",
       "      <td>2018-04-01</td>\n",
       "      <td>95</td>\n",
       "      <td>4.0</td>\n",
       "      <td>163.0</td>\n",
       "      <td>Vente</td>\n",
       "      <td>RUE</td>\n",
       "      <td>1</td>\n",
       "      <td>Maison</td>\n",
       "      <td>S</td>\n",
       "    </tr>\n",
       "    <tr>\n",
       "      <th>3</th>\n",
       "      <td>239300.0</td>\n",
       "      <td>2018-04-01</td>\n",
       "      <td>95</td>\n",
       "      <td>2.0</td>\n",
       "      <td>51.0</td>\n",
       "      <td>Vente</td>\n",
       "      <td>RUE</td>\n",
       "      <td>1</td>\n",
       "      <td>Maison</td>\n",
       "      <td>S</td>\n",
       "    </tr>\n",
       "    <tr>\n",
       "      <th>4</th>\n",
       "      <td>239300.0</td>\n",
       "      <td>2018-04-01</td>\n",
       "      <td>95</td>\n",
       "      <td>4.0</td>\n",
       "      <td>163.0</td>\n",
       "      <td>Vente</td>\n",
       "      <td>RUE</td>\n",
       "      <td>1</td>\n",
       "      <td>Maison</td>\n",
       "      <td>AG</td>\n",
       "    </tr>\n",
       "    <tr>\n",
       "      <th>5</th>\n",
       "      <td>239300.0</td>\n",
       "      <td>2018-04-01</td>\n",
       "      <td>95</td>\n",
       "      <td>2.0</td>\n",
       "      <td>51.0</td>\n",
       "      <td>Vente</td>\n",
       "      <td>RUE</td>\n",
       "      <td>1</td>\n",
       "      <td>Maison</td>\n",
       "      <td>AG</td>\n",
       "    </tr>\n",
       "    <tr>\n",
       "      <th>22</th>\n",
       "      <td>47700.0</td>\n",
       "      <td>2018-08-01</td>\n",
       "      <td>211</td>\n",
       "      <td>5.0</td>\n",
       "      <td>225.0</td>\n",
       "      <td>Vente</td>\n",
       "      <td>RTE</td>\n",
       "      <td>1</td>\n",
       "      <td>Maison</td>\n",
       "      <td>S</td>\n",
       "    </tr>\n",
       "  </tbody>\n",
       "</table>\n",
       "</div>"
      ],
      "text/plain": [
       "    Valeur fonciere Date mutation Code commune  Nombre pieces principales  \\\n",
       "2          239300.0    2018-04-01           95                        4.0   \n",
       "3          239300.0    2018-04-01           95                        2.0   \n",
       "4          239300.0    2018-04-01           95                        4.0   \n",
       "5          239300.0    2018-04-01           95                        2.0   \n",
       "22          47700.0    2018-08-01          211                        5.0   \n",
       "\n",
       "    Surface reelle bati Nature mutation Type de voie Code departement  \\\n",
       "2                 163.0           Vente          RUE                1   \n",
       "3                  51.0           Vente          RUE                1   \n",
       "4                 163.0           Vente          RUE                1   \n",
       "5                  51.0           Vente          RUE                1   \n",
       "22                225.0           Vente          RTE                1   \n",
       "\n",
       "   Type local Nature culture  \n",
       "2      Maison              S  \n",
       "3      Maison              S  \n",
       "4      Maison             AG  \n",
       "5      Maison             AG  \n",
       "22     Maison              S  "
      ]
     },
     "execution_count": 67,
     "metadata": {},
     "output_type": "execute_result"
    }
   ],
   "source": [
    "df.head()"
   ]
  },
  {
   "cell_type": "markdown",
   "metadata": {},
   "source": [
    "Encodage des categories"
   ]
  },
  {
   "cell_type": "code",
   "execution_count": 68,
   "metadata": {},
   "outputs": [
    {
     "data": {
      "text/plain": [
       "Valeur fonciere                     float64\n",
       "Date mutation                datetime64[ns]\n",
       "Code commune                       category\n",
       "Nombre pieces principales           float64\n",
       "Surface reelle bati                 float64\n",
       "Nature mutation                    category\n",
       "Type de voie                       category\n",
       "Code departement                   category\n",
       "Type local                         category\n",
       "Nature culture                     category\n",
       "dtype: object"
      ]
     },
     "execution_count": 68,
     "metadata": {},
     "output_type": "execute_result"
    }
   ],
   "source": [
    "df.dtypes"
   ]
  },
  {
   "cell_type": "code",
   "execution_count": 69,
   "metadata": {},
   "outputs": [],
   "source": [
    "#https://towardsdatascience.com/dealing-with-features-that-have-high-cardinality-1c9212d7ff1b#:~:text=A%20categorical%20feature%20is%20said,absence)%20in%20the%20categorical%20variable.\n",
    "\n",
    "def cumulatively_categorise(column,threshold=0.95,return_categories_list=True):\n",
    "    \"\"\"\n",
    "    Function that create categories and merges categories that are low represented in the dataset into 'Other' categories\n",
    "    Parameters:\n",
    "        - column: the column to encode\n",
    "        - threshold: threshold for the 'Other' category. Float between 0 and 1, defaults to 0.95\n",
    "        - return_categories_list: to return the list of categories created or not. Boolean, defaults to True\n",
    "    \"\"\"\n",
    "    #Find the threshold value using the percentage and number of instances in the column\n",
    "    threshold_value=int(threshold*len(column))\n",
    "    #Initialise an empty list for our new minimised categories\n",
    "    categories_list=[]\n",
    "    #Initialise a variable to calculate the sum of frequencies\n",
    "    s=0\n",
    "    #Create a counter dictionary of the form unique_value: frequency\n",
    "    counts=Counter(column)\n",
    "\n",
    "    #Loop through the category name and its corresponding frequency after sorting the categories by descending order of frequency\n",
    "    for i,j in counts.most_common():\n",
    "        #Add the frequency to the global sum\n",
    "        s+=dict(counts)[i]\n",
    "        #Append the category name to the list\n",
    "        categories_list.append(i)\n",
    "        #Check if the global sum has reached the threshold value, if so break the loop\n",
    "        if s>=threshold_value:\n",
    "            break\n",
    "    #Append the category Other to the list\n",
    "    categories_list.append('Other')\n",
    "\n",
    "    #Replace all instances not in our new categories by Other  \n",
    "    new_column=column.apply(lambda x: x if x in categories_list else 'Other')\n",
    "\n",
    "    #Return transformed column and unique values if return_categories=True\n",
    "    if(return_categories_list):\n",
    "        return new_column,categories_list\n",
    "    #Return only the transformed column if return_categories=False\n",
    "    else:\n",
    "        return new_column"
   ]
  },
  {
   "cell_type": "markdown",
   "metadata": {},
   "source": [
    "Convertir 'Type de voie' et 'Nature culture'"
   ]
  },
  {
   "cell_type": "code",
   "execution_count": 70,
   "metadata": {},
   "outputs": [],
   "source": [
    "transformed_column, new_category_list = cumulatively_categorise(df['Type de voie'],return_categories_list=True)"
   ]
  },
  {
   "cell_type": "code",
   "execution_count": 71,
   "metadata": {},
   "outputs": [],
   "source": [
    "df['Type de voie trans'] = transformed_column"
   ]
  },
  {
   "cell_type": "code",
   "execution_count": 72,
   "metadata": {},
   "outputs": [],
   "source": [
    "transformed_column, new_category_list = cumulatively_categorise(df['Nature culture'],return_categories_list=True)"
   ]
  },
  {
   "cell_type": "code",
   "execution_count": 73,
   "metadata": {},
   "outputs": [],
   "source": [
    "df['Nature culture trans'] = transformed_column"
   ]
  },
  {
   "cell_type": "code",
   "execution_count": 74,
   "metadata": {},
   "outputs": [],
   "source": [
    "df.drop(columns=['Type de voie', 'Nature culture'],inplace=True)"
   ]
  },
  {
   "cell_type": "code",
   "execution_count": 75,
   "metadata": {},
   "outputs": [
    {
     "data": {
      "text/html": [
       "<div>\n",
       "<style scoped>\n",
       "    .dataframe tbody tr th:only-of-type {\n",
       "        vertical-align: middle;\n",
       "    }\n",
       "\n",
       "    .dataframe tbody tr th {\n",
       "        vertical-align: top;\n",
       "    }\n",
       "\n",
       "    .dataframe thead th {\n",
       "        text-align: right;\n",
       "    }\n",
       "</style>\n",
       "<table border=\"1\" class=\"dataframe\">\n",
       "  <thead>\n",
       "    <tr style=\"text-align: right;\">\n",
       "      <th></th>\n",
       "      <th>Valeur fonciere</th>\n",
       "      <th>Date mutation</th>\n",
       "      <th>Code commune</th>\n",
       "      <th>Nombre pieces principales</th>\n",
       "      <th>Surface reelle bati</th>\n",
       "      <th>Nature mutation</th>\n",
       "      <th>Code departement</th>\n",
       "      <th>Type local</th>\n",
       "      <th>Type de voie trans</th>\n",
       "      <th>Nature culture trans</th>\n",
       "    </tr>\n",
       "  </thead>\n",
       "  <tbody>\n",
       "    <tr>\n",
       "      <th>2</th>\n",
       "      <td>239300.0</td>\n",
       "      <td>2018-04-01</td>\n",
       "      <td>95</td>\n",
       "      <td>4.0</td>\n",
       "      <td>163.0</td>\n",
       "      <td>Vente</td>\n",
       "      <td>1</td>\n",
       "      <td>Maison</td>\n",
       "      <td>RUE</td>\n",
       "      <td>S</td>\n",
       "    </tr>\n",
       "    <tr>\n",
       "      <th>3</th>\n",
       "      <td>239300.0</td>\n",
       "      <td>2018-04-01</td>\n",
       "      <td>95</td>\n",
       "      <td>2.0</td>\n",
       "      <td>51.0</td>\n",
       "      <td>Vente</td>\n",
       "      <td>1</td>\n",
       "      <td>Maison</td>\n",
       "      <td>RUE</td>\n",
       "      <td>S</td>\n",
       "    </tr>\n",
       "    <tr>\n",
       "      <th>4</th>\n",
       "      <td>239300.0</td>\n",
       "      <td>2018-04-01</td>\n",
       "      <td>95</td>\n",
       "      <td>4.0</td>\n",
       "      <td>163.0</td>\n",
       "      <td>Vente</td>\n",
       "      <td>1</td>\n",
       "      <td>Maison</td>\n",
       "      <td>RUE</td>\n",
       "      <td>AG</td>\n",
       "    </tr>\n",
       "    <tr>\n",
       "      <th>5</th>\n",
       "      <td>239300.0</td>\n",
       "      <td>2018-04-01</td>\n",
       "      <td>95</td>\n",
       "      <td>2.0</td>\n",
       "      <td>51.0</td>\n",
       "      <td>Vente</td>\n",
       "      <td>1</td>\n",
       "      <td>Maison</td>\n",
       "      <td>RUE</td>\n",
       "      <td>AG</td>\n",
       "    </tr>\n",
       "    <tr>\n",
       "      <th>22</th>\n",
       "      <td>47700.0</td>\n",
       "      <td>2018-08-01</td>\n",
       "      <td>211</td>\n",
       "      <td>5.0</td>\n",
       "      <td>225.0</td>\n",
       "      <td>Vente</td>\n",
       "      <td>1</td>\n",
       "      <td>Maison</td>\n",
       "      <td>RTE</td>\n",
       "      <td>S</td>\n",
       "    </tr>\n",
       "  </tbody>\n",
       "</table>\n",
       "</div>"
      ],
      "text/plain": [
       "    Valeur fonciere Date mutation Code commune  Nombre pieces principales  \\\n",
       "2          239300.0    2018-04-01           95                        4.0   \n",
       "3          239300.0    2018-04-01           95                        2.0   \n",
       "4          239300.0    2018-04-01           95                        4.0   \n",
       "5          239300.0    2018-04-01           95                        2.0   \n",
       "22          47700.0    2018-08-01          211                        5.0   \n",
       "\n",
       "    Surface reelle bati Nature mutation Code departement Type local  \\\n",
       "2                 163.0           Vente                1     Maison   \n",
       "3                  51.0           Vente                1     Maison   \n",
       "4                 163.0           Vente                1     Maison   \n",
       "5                  51.0           Vente                1     Maison   \n",
       "22                225.0           Vente                1     Maison   \n",
       "\n",
       "   Type de voie trans Nature culture trans  \n",
       "2                 RUE                    S  \n",
       "3                 RUE                    S  \n",
       "4                 RUE                   AG  \n",
       "5                 RUE                   AG  \n",
       "22                RTE                    S  "
      ]
     },
     "execution_count": 75,
     "metadata": {},
     "output_type": "execute_result"
    }
   ],
   "source": [
    "df.head()"
   ]
  },
  {
   "cell_type": "markdown",
   "metadata": {},
   "source": [
    "Encodage One Hot des catégories à faible cardinalité"
   ]
  },
  {
   "cell_type": "code",
   "execution_count": 76,
   "metadata": {
    "scrolled": true
   },
   "outputs": [],
   "source": [
    "OHencoder = ce.OneHotEncoder(cols=['Nature mutation', 'Type local', 'Nature culture trans', 'Type de voie trans'], return_df=True)"
   ]
  },
  {
   "cell_type": "code",
   "execution_count": 77,
   "metadata": {},
   "outputs": [],
   "source": [
    "df = OHencoder.fit_transform(df)"
   ]
  },
  {
   "cell_type": "markdown",
   "metadata": {},
   "source": [
    "Encodage Base N des catégories à forte cardinalité"
   ]
  },
  {
   "cell_type": "code",
   "execution_count": 78,
   "metadata": {},
   "outputs": [],
   "source": [
    "bn_enc = ce.BaseNEncoder(cols=['Code commune', 'Code departement'],return_df=True,base=10)"
   ]
  },
  {
   "cell_type": "code",
   "execution_count": 79,
   "metadata": {},
   "outputs": [],
   "source": [
    "df = bn_enc.fit_transform(df)"
   ]
  },
  {
   "cell_type": "code",
   "execution_count": 80,
   "metadata": {
    "scrolled": true
   },
   "outputs": [
    {
     "data": {
      "text/html": [
       "<div>\n",
       "<style scoped>\n",
       "    .dataframe tbody tr th:only-of-type {\n",
       "        vertical-align: middle;\n",
       "    }\n",
       "\n",
       "    .dataframe tbody tr th {\n",
       "        vertical-align: top;\n",
       "    }\n",
       "\n",
       "    .dataframe thead th {\n",
       "        text-align: right;\n",
       "    }\n",
       "</style>\n",
       "<table border=\"1\" class=\"dataframe\">\n",
       "  <thead>\n",
       "    <tr style=\"text-align: right;\">\n",
       "      <th></th>\n",
       "      <th>Valeur fonciere</th>\n",
       "      <th>Date mutation</th>\n",
       "      <th>Code commune_0</th>\n",
       "      <th>Code commune_1</th>\n",
       "      <th>Code commune_2</th>\n",
       "      <th>Nombre pieces principales</th>\n",
       "      <th>Surface reelle bati</th>\n",
       "      <th>Nature mutation_1</th>\n",
       "      <th>Nature mutation_2</th>\n",
       "      <th>Nature mutation_3</th>\n",
       "      <th>...</th>\n",
       "      <th>Type de voie trans_6</th>\n",
       "      <th>Type de voie trans_7</th>\n",
       "      <th>Type de voie trans_8</th>\n",
       "      <th>Type de voie trans_9</th>\n",
       "      <th>Type de voie trans_10</th>\n",
       "      <th>Type de voie trans_11</th>\n",
       "      <th>Nature culture trans_1</th>\n",
       "      <th>Nature culture trans_2</th>\n",
       "      <th>Nature culture trans_3</th>\n",
       "      <th>Nature culture trans_4</th>\n",
       "    </tr>\n",
       "  </thead>\n",
       "  <tbody>\n",
       "    <tr>\n",
       "      <th>2</th>\n",
       "      <td>239300.0</td>\n",
       "      <td>2018-04-01</td>\n",
       "      <td>0</td>\n",
       "      <td>0</td>\n",
       "      <td>1</td>\n",
       "      <td>4.0</td>\n",
       "      <td>163.0</td>\n",
       "      <td>1</td>\n",
       "      <td>0</td>\n",
       "      <td>0</td>\n",
       "      <td>...</td>\n",
       "      <td>0</td>\n",
       "      <td>0</td>\n",
       "      <td>0</td>\n",
       "      <td>0</td>\n",
       "      <td>0</td>\n",
       "      <td>0</td>\n",
       "      <td>1</td>\n",
       "      <td>0</td>\n",
       "      <td>0</td>\n",
       "      <td>0</td>\n",
       "    </tr>\n",
       "    <tr>\n",
       "      <th>3</th>\n",
       "      <td>239300.0</td>\n",
       "      <td>2018-04-01</td>\n",
       "      <td>0</td>\n",
       "      <td>0</td>\n",
       "      <td>1</td>\n",
       "      <td>2.0</td>\n",
       "      <td>51.0</td>\n",
       "      <td>1</td>\n",
       "      <td>0</td>\n",
       "      <td>0</td>\n",
       "      <td>...</td>\n",
       "      <td>0</td>\n",
       "      <td>0</td>\n",
       "      <td>0</td>\n",
       "      <td>0</td>\n",
       "      <td>0</td>\n",
       "      <td>0</td>\n",
       "      <td>1</td>\n",
       "      <td>0</td>\n",
       "      <td>0</td>\n",
       "      <td>0</td>\n",
       "    </tr>\n",
       "    <tr>\n",
       "      <th>4</th>\n",
       "      <td>239300.0</td>\n",
       "      <td>2018-04-01</td>\n",
       "      <td>0</td>\n",
       "      <td>0</td>\n",
       "      <td>1</td>\n",
       "      <td>4.0</td>\n",
       "      <td>163.0</td>\n",
       "      <td>1</td>\n",
       "      <td>0</td>\n",
       "      <td>0</td>\n",
       "      <td>...</td>\n",
       "      <td>0</td>\n",
       "      <td>0</td>\n",
       "      <td>0</td>\n",
       "      <td>0</td>\n",
       "      <td>0</td>\n",
       "      <td>0</td>\n",
       "      <td>0</td>\n",
       "      <td>1</td>\n",
       "      <td>0</td>\n",
       "      <td>0</td>\n",
       "    </tr>\n",
       "    <tr>\n",
       "      <th>5</th>\n",
       "      <td>239300.0</td>\n",
       "      <td>2018-04-01</td>\n",
       "      <td>0</td>\n",
       "      <td>0</td>\n",
       "      <td>1</td>\n",
       "      <td>2.0</td>\n",
       "      <td>51.0</td>\n",
       "      <td>1</td>\n",
       "      <td>0</td>\n",
       "      <td>0</td>\n",
       "      <td>...</td>\n",
       "      <td>0</td>\n",
       "      <td>0</td>\n",
       "      <td>0</td>\n",
       "      <td>0</td>\n",
       "      <td>0</td>\n",
       "      <td>0</td>\n",
       "      <td>0</td>\n",
       "      <td>1</td>\n",
       "      <td>0</td>\n",
       "      <td>0</td>\n",
       "    </tr>\n",
       "    <tr>\n",
       "      <th>22</th>\n",
       "      <td>47700.0</td>\n",
       "      <td>2018-08-01</td>\n",
       "      <td>0</td>\n",
       "      <td>0</td>\n",
       "      <td>2</td>\n",
       "      <td>5.0</td>\n",
       "      <td>225.0</td>\n",
       "      <td>1</td>\n",
       "      <td>0</td>\n",
       "      <td>0</td>\n",
       "      <td>...</td>\n",
       "      <td>0</td>\n",
       "      <td>0</td>\n",
       "      <td>0</td>\n",
       "      <td>0</td>\n",
       "      <td>0</td>\n",
       "      <td>0</td>\n",
       "      <td>1</td>\n",
       "      <td>0</td>\n",
       "      <td>0</td>\n",
       "      <td>0</td>\n",
       "    </tr>\n",
       "  </tbody>\n",
       "</table>\n",
       "<p>5 rows × 34 columns</p>\n",
       "</div>"
      ],
      "text/plain": [
       "    Valeur fonciere Date mutation  Code commune_0  Code commune_1  \\\n",
       "2          239300.0    2018-04-01               0               0   \n",
       "3          239300.0    2018-04-01               0               0   \n",
       "4          239300.0    2018-04-01               0               0   \n",
       "5          239300.0    2018-04-01               0               0   \n",
       "22          47700.0    2018-08-01               0               0   \n",
       "\n",
       "    Code commune_2  Nombre pieces principales  Surface reelle bati  \\\n",
       "2                1                        4.0                163.0   \n",
       "3                1                        2.0                 51.0   \n",
       "4                1                        4.0                163.0   \n",
       "5                1                        2.0                 51.0   \n",
       "22               2                        5.0                225.0   \n",
       "\n",
       "    Nature mutation_1  Nature mutation_2  Nature mutation_3  ...  \\\n",
       "2                   1                  0                  0  ...   \n",
       "3                   1                  0                  0  ...   \n",
       "4                   1                  0                  0  ...   \n",
       "5                   1                  0                  0  ...   \n",
       "22                  1                  0                  0  ...   \n",
       "\n",
       "    Type de voie trans_6  Type de voie trans_7  Type de voie trans_8  \\\n",
       "2                      0                     0                     0   \n",
       "3                      0                     0                     0   \n",
       "4                      0                     0                     0   \n",
       "5                      0                     0                     0   \n",
       "22                     0                     0                     0   \n",
       "\n",
       "    Type de voie trans_9  Type de voie trans_10  Type de voie trans_11  \\\n",
       "2                      0                      0                      0   \n",
       "3                      0                      0                      0   \n",
       "4                      0                      0                      0   \n",
       "5                      0                      0                      0   \n",
       "22                     0                      0                      0   \n",
       "\n",
       "    Nature culture trans_1  Nature culture trans_2  Nature culture trans_3  \\\n",
       "2                        1                       0                       0   \n",
       "3                        1                       0                       0   \n",
       "4                        0                       1                       0   \n",
       "5                        0                       1                       0   \n",
       "22                       1                       0                       0   \n",
       "\n",
       "    Nature culture trans_4  \n",
       "2                        0  \n",
       "3                        0  \n",
       "4                        0  \n",
       "5                        0  \n",
       "22                       0  \n",
       "\n",
       "[5 rows x 34 columns]"
      ]
     },
     "execution_count": 80,
     "metadata": {},
     "output_type": "execute_result"
    }
   ],
   "source": [
    "df.head()"
   ]
  },
  {
   "cell_type": "markdown",
   "metadata": {},
   "source": [
    "Conversion de la date en année"
   ]
  },
  {
   "cell_type": "code",
   "execution_count": 81,
   "metadata": {},
   "outputs": [],
   "source": [
    "df['Annee transaction'] = df['Date mutation'].apply(lambda x: x.year)"
   ]
  },
  {
   "cell_type": "code",
   "execution_count": 82,
   "metadata": {},
   "outputs": [],
   "source": [
    "df.drop(columns=['Date mutation'], inplace=True)"
   ]
  },
  {
   "cell_type": "code",
   "execution_count": 83,
   "metadata": {
    "scrolled": true
   },
   "outputs": [
    {
     "data": {
      "text/plain": [
       "Valeur fonciere              float64\n",
       "Code commune_0                 int64\n",
       "Code commune_1                 int64\n",
       "Code commune_2                 int64\n",
       "Nombre pieces principales    float64\n",
       "Surface reelle bati          float64\n",
       "Nature mutation_1              int64\n",
       "Nature mutation_2              int64\n",
       "Nature mutation_3              int64\n",
       "Nature mutation_4              int64\n",
       "Nature mutation_5              int64\n",
       "Nature mutation_6              int64\n",
       "Code departement_0             int64\n",
       "Code departement_1             int64\n",
       "Type local_1                   int64\n",
       "Type local_2                   int64\n",
       "Type local_3                   int64\n",
       "Type local_4                   int64\n",
       "Type de voie trans_1           int64\n",
       "Type de voie trans_2           int64\n",
       "Type de voie trans_3           int64\n",
       "Type de voie trans_4           int64\n",
       "Type de voie trans_5           int64\n",
       "Type de voie trans_6           int64\n",
       "Type de voie trans_7           int64\n",
       "Type de voie trans_8           int64\n",
       "Type de voie trans_9           int64\n",
       "Type de voie trans_10          int64\n",
       "Type de voie trans_11          int64\n",
       "Nature culture trans_1         int64\n",
       "Nature culture trans_2         int64\n",
       "Nature culture trans_3         int64\n",
       "Nature culture trans_4         int64\n",
       "Annee transaction              int64\n",
       "dtype: object"
      ]
     },
     "execution_count": 83,
     "metadata": {},
     "output_type": "execute_result"
    }
   ],
   "source": [
    "df.dtypes"
   ]
  },
  {
   "cell_type": "code",
   "execution_count": 84,
   "metadata": {},
   "outputs": [
    {
     "ename": "NameError",
     "evalue": "name 'stop' is not defined",
     "output_type": "error",
     "traceback": [
      "\u001b[1;31m---------------------------------------------------------------------------\u001b[0m",
      "\u001b[1;31mNameError\u001b[0m                                 Traceback (most recent call last)",
      "\u001b[1;32m<ipython-input-84-4f76a9dad686>\u001b[0m in \u001b[0;36m<module>\u001b[1;34m\u001b[0m\n\u001b[1;32m----> 1\u001b[1;33m \u001b[0mstop\u001b[0m\u001b[1;33m\u001b[0m\u001b[1;33m\u001b[0m\u001b[0m\n\u001b[0m",
      "\u001b[1;31mNameError\u001b[0m: name 'stop' is not defined"
     ]
    }
   ],
   "source": [
    "stop"
   ]
  },
  {
   "cell_type": "markdown",
   "metadata": {},
   "source": [
    "### Preprocessing"
   ]
  },
  {
   "cell_type": "markdown",
   "metadata": {},
   "source": [
    "#### Encodage des variables categorielles"
   ]
  },
  {
   "cell_type": "markdown",
   "metadata": {},
   "source": [
    "#### Get dummies (équivalent au One Hot Encoding)"
   ]
  },
  {
   "cell_type": "code",
   "execution_count": null,
   "metadata": {},
   "outputs": [],
   "source": [
    "dummy_df = pd.get_dummies(minimaldf, drop_first=True, sparse=True)"
   ]
  },
  {
   "cell_type": "code",
   "execution_count": null,
   "metadata": {},
   "outputs": [],
   "source": [
    "dummy_df.info()"
   ]
  },
  {
   "cell_type": "code",
   "execution_count": null,
   "metadata": {},
   "outputs": [],
   "source": [
    "dummy_df.head()"
   ]
  },
  {
   "cell_type": "raw",
   "metadata": {},
   "source": [
    "del dummy_df"
   ]
  },
  {
   "cell_type": "markdown",
   "metadata": {},
   "source": [
    "#### Hash encoding"
   ]
  },
  {
   "cell_type": "code",
   "execution_count": null,
   "metadata": {},
   "outputs": [],
   "source": [
    "hash_enc = ce.HashingEncoder(cols=['Code commune'], return_df=True,n_components=32)"
   ]
  },
  {
   "cell_type": "code",
   "execution_count": null,
   "metadata": {},
   "outputs": [],
   "source": [
    "hashdf = hash_enc.fit_transform(minimaldf)"
   ]
  },
  {
   "cell_type": "code",
   "execution_count": null,
   "metadata": {
    "scrolled": true
   },
   "outputs": [],
   "source": [
    "hashdf.info()"
   ]
  },
  {
   "cell_type": "code",
   "execution_count": null,
   "metadata": {
    "scrolled": false
   },
   "outputs": [],
   "source": [
    "hashdf.head()"
   ]
  },
  {
   "cell_type": "markdown",
   "metadata": {},
   "source": [
    "#### Binary Encoding"
   ]
  },
  {
   "cell_type": "code",
   "execution_count": null,
   "metadata": {},
   "outputs": [],
   "source": [
    "bin_enc = ce.BinaryEncoder(cols=['Code commune'], return_df=True)"
   ]
  },
  {
   "cell_type": "code",
   "execution_count": null,
   "metadata": {},
   "outputs": [],
   "source": [
    "bindf = bin_enc.fit_transform(minimaldf)"
   ]
  },
  {
   "cell_type": "code",
   "execution_count": null,
   "metadata": {
    "scrolled": true
   },
   "outputs": [],
   "source": [
    "bindf.info()"
   ]
  },
  {
   "cell_type": "code",
   "execution_count": null,
   "metadata": {},
   "outputs": [],
   "source": [
    "bindf.head()"
   ]
  },
  {
   "cell_type": "markdown",
   "metadata": {},
   "source": [
    "#### Base N encoding"
   ]
  },
  {
   "cell_type": "code",
   "execution_count": null,
   "metadata": {},
   "outputs": [],
   "source": [
    "bn_enc = ce.BaseNEncoder(cols=['Code commune', 'Code departement'],return_df=True,base=10)"
   ]
  },
  {
   "cell_type": "code",
   "execution_count": null,
   "metadata": {},
   "outputs": [],
   "source": [
    "df = bn_enc.fit_transform(df)"
   ]
  },
  {
   "cell_type": "code",
   "execution_count": null,
   "metadata": {},
   "outputs": [],
   "source": [
    "bndf.info()"
   ]
  },
  {
   "cell_type": "code",
   "execution_count": null,
   "metadata": {},
   "outputs": [],
   "source": [
    "bndf.head()"
   ]
  },
  {
   "cell_type": "markdown",
   "metadata": {},
   "source": [
    "### Séparation en training et test set"
   ]
  },
  {
   "cell_type": "markdown",
   "metadata": {},
   "source": [
    "Avec le DataFrame enrichi des paramètres utiles"
   ]
  },
  {
   "cell_type": "code",
   "execution_count": 85,
   "metadata": {},
   "outputs": [],
   "source": [
    "train, test = train_test_split(df, test_size=0.2, random_state=42, shuffle=True)"
   ]
  },
  {
   "cell_type": "code",
   "execution_count": 86,
   "metadata": {},
   "outputs": [],
   "source": [
    "y_train = train.pop('Valeur fonciere')\n",
    "X_train = train"
   ]
  },
  {
   "cell_type": "code",
   "execution_count": 87,
   "metadata": {},
   "outputs": [],
   "source": [
    "y_test = test.pop('Valeur fonciere')\n",
    "X_test = test"
   ]
  },
  {
   "cell_type": "markdown",
   "metadata": {},
   "source": [
    "Avec le DataFrame minimal"
   ]
  },
  {
   "cell_type": "code",
   "execution_count": 88,
   "metadata": {},
   "outputs": [],
   "source": [
    "mintrain, mintest = train_test_split(minimaldf, test_size=0.2, random_state=42, shuffle=True)"
   ]
  },
  {
   "cell_type": "code",
   "execution_count": 89,
   "metadata": {},
   "outputs": [],
   "source": [
    "y_train_min = mintrain.pop('Valeur fonciere')\n",
    "X_train_min = mintrain"
   ]
  },
  {
   "cell_type": "code",
   "execution_count": 90,
   "metadata": {},
   "outputs": [],
   "source": [
    "y_test_min = mintest.pop('Valeur fonciere')\n",
    "X_test_min = mintest"
   ]
  },
  {
   "cell_type": "code",
   "execution_count": 99,
   "metadata": {},
   "outputs": [
    {
     "data": {
      "text/plain": [
       "Index(['Code commune', 'Nombre pieces principales', 'Surface reelle bati',\n",
       "       'Annee transaction'],\n",
       "      dtype='object')"
      ]
     },
     "execution_count": 99,
     "metadata": {},
     "output_type": "execute_result"
    }
   ],
   "source": [
    "X_test_min.columns"
   ]
  },
  {
   "cell_type": "markdown",
   "metadata": {},
   "source": [
    "### Modèle prédictif"
   ]
  },
  {
   "cell_type": "code",
   "execution_count": 91,
   "metadata": {
    "collapsed": true
   },
   "outputs": [
    {
     "name": "stdout",
     "output_type": "stream",
     "text": [
      "<class 'pandas.core.frame.DataFrame'>\n",
      "Int64Index: 1857805 entries, 1360189 to 2671655\n",
      "Data columns (total 33 columns):\n",
      " #   Column                     Dtype  \n",
      "---  ------                     -----  \n",
      " 0   Code commune_0             int64  \n",
      " 1   Code commune_1             int64  \n",
      " 2   Code commune_2             int64  \n",
      " 3   Nombre pieces principales  float64\n",
      " 4   Surface reelle bati        float64\n",
      " 5   Nature mutation_1          int64  \n",
      " 6   Nature mutation_2          int64  \n",
      " 7   Nature mutation_3          int64  \n",
      " 8   Nature mutation_4          int64  \n",
      " 9   Nature mutation_5          int64  \n",
      " 10  Nature mutation_6          int64  \n",
      " 11  Code departement_0         int64  \n",
      " 12  Code departement_1         int64  \n",
      " 13  Type local_1               int64  \n",
      " 14  Type local_2               int64  \n",
      " 15  Type local_3               int64  \n",
      " 16  Type local_4               int64  \n",
      " 17  Type de voie trans_1       int64  \n",
      " 18  Type de voie trans_2       int64  \n",
      " 19  Type de voie trans_3       int64  \n",
      " 20  Type de voie trans_4       int64  \n",
      " 21  Type de voie trans_5       int64  \n",
      " 22  Type de voie trans_6       int64  \n",
      " 23  Type de voie trans_7       int64  \n",
      " 24  Type de voie trans_8       int64  \n",
      " 25  Type de voie trans_9       int64  \n",
      " 26  Type de voie trans_10      int64  \n",
      " 27  Type de voie trans_11      int64  \n",
      " 28  Nature culture trans_1     int64  \n",
      " 29  Nature culture trans_2     int64  \n",
      " 30  Nature culture trans_3     int64  \n",
      " 31  Nature culture trans_4     int64  \n",
      " 32  Annee transaction          int64  \n",
      "dtypes: float64(2), int64(31)\n",
      "memory usage: 481.9 MB\n"
     ]
    }
   ],
   "source": [
    "X_train.info()"
   ]
  },
  {
   "cell_type": "markdown",
   "metadata": {},
   "source": [
    "On essaye plusieurs modèles différents"
   ]
  },
  {
   "cell_type": "markdown",
   "metadata": {},
   "source": [
    "#### Linear Regression"
   ]
  },
  {
   "cell_type": "code",
   "execution_count": null,
   "metadata": {},
   "outputs": [],
   "source": [
    "reg = linear_model.LinearRegression()"
   ]
  },
  {
   "cell_type": "code",
   "execution_count": null,
   "metadata": {
    "scrolled": true
   },
   "outputs": [],
   "source": [
    "reg.fit(X_train, y_train)"
   ]
  },
  {
   "cell_type": "code",
   "execution_count": null,
   "metadata": {
    "scrolled": true
   },
   "outputs": [],
   "source": [
    "preds = reg.predict(X_test)"
   ]
  },
  {
   "cell_type": "code",
   "execution_count": null,
   "metadata": {},
   "outputs": [],
   "source": [
    "score = reg.score(X_test, y_test)"
   ]
  },
  {
   "cell_type": "code",
   "execution_count": null,
   "metadata": {},
   "outputs": [],
   "source": [
    "score"
   ]
  },
  {
   "cell_type": "code",
   "execution_count": null,
   "metadata": {},
   "outputs": [],
   "source": [
    "reg.coef_"
   ]
  },
  {
   "cell_type": "code",
   "execution_count": null,
   "metadata": {},
   "outputs": [],
   "source": [
    "reg.intercept_"
   ]
  },
  {
   "cell_type": "code",
   "execution_count": null,
   "metadata": {},
   "outputs": [],
   "source": [
    "print(\"LINEAR REGRESSOR\")\n",
    "metric_and_plot(preds, y_test)"
   ]
  },
  {
   "cell_type": "markdown",
   "metadata": {},
   "source": [
    "#### Lasso"
   ]
  },
  {
   "cell_type": "code",
   "execution_count": null,
   "metadata": {},
   "outputs": [],
   "source": [
    "lasso = linear_model.Lasso(alpha=0.1, random_state=42)"
   ]
  },
  {
   "cell_type": "code",
   "execution_count": null,
   "metadata": {
    "scrolled": false
   },
   "outputs": [],
   "source": [
    "lasso.fit(X_train, y_train)"
   ]
  },
  {
   "cell_type": "code",
   "execution_count": null,
   "metadata": {
    "scrolled": true
   },
   "outputs": [],
   "source": [
    "lassopreds = lasso.predict(X_test)"
   ]
  },
  {
   "cell_type": "code",
   "execution_count": null,
   "metadata": {},
   "outputs": [],
   "source": [
    "score = lasso.score(X_test, y_test)"
   ]
  },
  {
   "cell_type": "code",
   "execution_count": null,
   "metadata": {},
   "outputs": [],
   "source": [
    "score"
   ]
  },
  {
   "cell_type": "code",
   "execution_count": null,
   "metadata": {},
   "outputs": [],
   "source": [
    "print(\"LASSO REGRESSOR\")\n",
    "metric_and_plot(lassopreds, y_test)"
   ]
  },
  {
   "cell_type": "markdown",
   "metadata": {},
   "source": [
    "#### Elastic"
   ]
  },
  {
   "cell_type": "code",
   "execution_count": null,
   "metadata": {
    "scrolled": true
   },
   "outputs": [],
   "source": [
    "elastic = linear_model.ElasticNet(random_state=42)\n",
    "elastic.fit(X_train, y_train)"
   ]
  },
  {
   "cell_type": "code",
   "execution_count": null,
   "metadata": {
    "scrolled": true
   },
   "outputs": [],
   "source": [
    "elasticpreds = elastic.predict(X_test)"
   ]
  },
  {
   "cell_type": "code",
   "execution_count": null,
   "metadata": {},
   "outputs": [],
   "source": [
    "score = elastic.score(X_test, y_test)"
   ]
  },
  {
   "cell_type": "code",
   "execution_count": null,
   "metadata": {},
   "outputs": [],
   "source": [
    "score"
   ]
  },
  {
   "cell_type": "code",
   "execution_count": null,
   "metadata": {},
   "outputs": [],
   "source": [
    "print(\"ELASTIC NET REGRESSOR\")\n",
    "metric_and_plot(elasticpreds, y_test)"
   ]
  },
  {
   "cell_type": "markdown",
   "metadata": {},
   "source": [
    "#### MLP Regressor"
   ]
  },
  {
   "cell_type": "code",
   "execution_count": null,
   "metadata": {},
   "outputs": [],
   "source": [
    "mlpreg = MLPRegressor(random_state=42).fit(X_train, y_train)"
   ]
  },
  {
   "cell_type": "code",
   "execution_count": null,
   "metadata": {},
   "outputs": [],
   "source": [
    "mlppreds = mlpreg.predict(X_test)"
   ]
  },
  {
   "cell_type": "code",
   "execution_count": null,
   "metadata": {},
   "outputs": [],
   "source": [
    "mlpreg.score(X_test, y_test)"
   ]
  },
  {
   "cell_type": "code",
   "execution_count": null,
   "metadata": {},
   "outputs": [],
   "source": [
    "print(\"MLP REGRESSOR\")\n",
    "metric_and_plot(mlppreds, y_test)"
   ]
  },
  {
   "cell_type": "markdown",
   "metadata": {},
   "source": [
    "#### AdaBoostRegressor"
   ]
  },
  {
   "cell_type": "code",
   "execution_count": null,
   "metadata": {},
   "outputs": [],
   "source": [
    "adareg = AdaBoostRegressor(random_state=42)"
   ]
  },
  {
   "cell_type": "code",
   "execution_count": null,
   "metadata": {},
   "outputs": [],
   "source": [
    "adareg.fit(X_train, y_train)"
   ]
  },
  {
   "cell_type": "code",
   "execution_count": null,
   "metadata": {},
   "outputs": [],
   "source": [
    "adapreds = adareg.predict(X_test)"
   ]
  },
  {
   "cell_type": "code",
   "execution_count": null,
   "metadata": {},
   "outputs": [],
   "source": [
    "adareg.score(X_test, y_test)"
   ]
  },
  {
   "cell_type": "code",
   "execution_count": null,
   "metadata": {
    "scrolled": false
   },
   "outputs": [],
   "source": [
    "print(\"ADABOOST REGRESSOR\")\n",
    "metric_and_plot(adapreds, y_test)"
   ]
  },
  {
   "cell_type": "markdown",
   "metadata": {},
   "source": [
    "#### BaggingRegressor"
   ]
  },
  {
   "cell_type": "code",
   "execution_count": 92,
   "metadata": {},
   "outputs": [],
   "source": [
    "bagreg = BaggingRegressor(n_estimators=20, random_state=42)"
   ]
  },
  {
   "cell_type": "code",
   "execution_count": 93,
   "metadata": {},
   "outputs": [
    {
     "data": {
      "text/plain": [
       "BaggingRegressor(n_estimators=20, random_state=42)"
      ]
     },
     "execution_count": 93,
     "metadata": {},
     "output_type": "execute_result"
    }
   ],
   "source": [
    "bagreg.fit(X_train, y_train)"
   ]
  },
  {
   "cell_type": "code",
   "execution_count": 94,
   "metadata": {},
   "outputs": [],
   "source": [
    "bagpreds = bagreg.predict(X_test)"
   ]
  },
  {
   "cell_type": "code",
   "execution_count": 95,
   "metadata": {},
   "outputs": [
    {
     "data": {
      "text/plain": [
       "0.7105468978646521"
      ]
     },
     "execution_count": 95,
     "metadata": {},
     "output_type": "execute_result"
    }
   ],
   "source": [
    "bagreg.score(X_test, y_test)"
   ]
  },
  {
   "cell_type": "code",
   "execution_count": 96,
   "metadata": {
    "scrolled": true
   },
   "outputs": [
    {
     "name": "stdout",
     "output_type": "stream",
     "text": [
      "BAGGING REGRESSOR\n",
      "MAE : 658390.828244824\n",
      "MSE : 75876288201653.8\n",
      "R² : 0.7105468978646521\n"
     ]
    },
    {
     "data": {
      "image/png": "[encoded data removed]",
      "text/plain": [
       "<Figure size 432x288 with 1 Axes>"
      ]
     },
     "metadata": {
      "needs_background": "light"
     },
     "output_type": "display_data"
    }
   ],
   "source": [
    "print(\"BAGGING REGRESSOR\")\n",
    "metric_and_plot(bagpreds, y_test)"
   ]
  },
  {
   "cell_type": "code",
   "execution_count": 103,
   "metadata": {},
   "outputs": [
    {
     "data": {
      "text/html": [
       "<div>\n",
       "<style scoped>\n",
       "    .dataframe tbody tr th:only-of-type {\n",
       "        vertical-align: middle;\n",
       "    }\n",
       "\n",
       "    .dataframe tbody tr th {\n",
       "        vertical-align: top;\n",
       "    }\n",
       "\n",
       "    .dataframe thead th {\n",
       "        text-align: right;\n",
       "    }\n",
       "</style>\n",
       "<table border=\"1\" class=\"dataframe\">\n",
       "  <thead>\n",
       "    <tr style=\"text-align: right;\">\n",
       "      <th></th>\n",
       "      <th>Code commune</th>\n",
       "      <th>Nombre pieces principales</th>\n",
       "      <th>Surface reelle bati</th>\n",
       "      <th>Annee transaction</th>\n",
       "    </tr>\n",
       "  </thead>\n",
       "  <tbody>\n",
       "    <tr>\n",
       "      <th>2514437</th>\n",
       "      <td>101</td>\n",
       "      <td>0.0</td>\n",
       "      <td>0.0</td>\n",
       "      <td>2020</td>\n",
       "    </tr>\n",
       "    <tr>\n",
       "      <th>3199232</th>\n",
       "      <td>351</td>\n",
       "      <td>3.0</td>\n",
       "      <td>61.0</td>\n",
       "      <td>2018</td>\n",
       "    </tr>\n",
       "    <tr>\n",
       "      <th>771353</th>\n",
       "      <td>321</td>\n",
       "      <td>3.0</td>\n",
       "      <td>61.0</td>\n",
       "      <td>2019</td>\n",
       "    </tr>\n",
       "    <tr>\n",
       "      <th>229094</th>\n",
       "      <td>409</td>\n",
       "      <td>5.0</td>\n",
       "      <td>110.0</td>\n",
       "      <td>2019</td>\n",
       "    </tr>\n",
       "    <tr>\n",
       "      <th>3197244</th>\n",
       "      <td>345</td>\n",
       "      <td>4.0</td>\n",
       "      <td>62.0</td>\n",
       "      <td>2019</td>\n",
       "    </tr>\n",
       "  </tbody>\n",
       "</table>\n",
       "</div>"
      ],
      "text/plain": [
       "        Code commune  Nombre pieces principales  Surface reelle bati  \\\n",
       "2514437          101                        0.0                  0.0   \n",
       "3199232          351                        3.0                 61.0   \n",
       "771353           321                        3.0                 61.0   \n",
       "229094           409                        5.0                110.0   \n",
       "3197244          345                        4.0                 62.0   \n",
       "\n",
       "         Annee transaction  \n",
       "2514437               2020  \n",
       "3199232               2018  \n",
       "771353                2019  \n",
       "229094                2019  \n",
       "3197244               2019  "
      ]
     },
     "execution_count": 103,
     "metadata": {},
     "output_type": "execute_result"
    }
   ],
   "source": [
    "X_test_min.head()"
   ]
  },
  {
   "cell_type": "code",
   "execution_count": 102,
   "metadata": {},
   "outputs": [],
   "source": [
    "superficiy = 50\n",
    "code_commune = 75018\n",
    "annee = 2020\n",
    "nb_piece = 2"
   ]
  },
  {
   "cell_type": "code",
   "execution_count": 104,
   "metadata": {},
   "outputs": [],
   "source": [
    "arr = np.array([75018, 2, 50, 2020])"
   ]
  },
  {
   "cell_type": "code",
   "execution_count": 107,
   "metadata": {},
   "outputs": [
    {
     "ename": "NameError",
     "evalue": "name 'rfreg' is not defined",
     "output_type": "error",
     "traceback": [
      "\u001b[1;31m---------------------------------------------------------------------------\u001b[0m",
      "\u001b[1;31mNameError\u001b[0m                                 Traceback (most recent call last)",
      "\u001b[1;32m<ipython-input-107-825b8754e73f>\u001b[0m in \u001b[0;36m<module>\u001b[1;34m\u001b[0m\n\u001b[1;32m----> 1\u001b[1;33m \u001b[0mrfreg\u001b[0m\u001b[1;33m.\u001b[0m\u001b[0mpredict\u001b[0m\u001b[1;33m(\u001b[0m\u001b[1;33m[\u001b[0m\u001b[0marr\u001b[0m\u001b[1;33m]\u001b[0m\u001b[1;33m)\u001b[0m\u001b[1;33m\u001b[0m\u001b[1;33m\u001b[0m\u001b[0m\n\u001b[0m",
      "\u001b[1;31mNameError\u001b[0m: name 'rfreg' is not defined"
     ]
    }
   ],
   "source": [
    "rfreg.predict([arr])"
   ]
  },
  {
   "cell_type": "code",
   "execution_count": 100,
   "metadata": {},
   "outputs": [
    {
     "data": {
      "text/plain": [
       "[95, 211, 430, 123, 53, ..., 891, 834, 840, 877, 883]\n",
       "Length: 908\n",
       "Categories (908, int64): [95, 211, 430, 123, ..., 834, 840, 877, 883]"
      ]
     },
     "execution_count": 100,
     "metadata": {},
     "output_type": "execute_result"
    }
   ],
   "source": [
    "minimaldf['Code commune'].unique()"
   ]
  },
  {
   "cell_type": "markdown",
   "metadata": {},
   "source": [
    "#### RandomForestRegressor"
   ]
  },
  {
   "cell_type": "code",
   "execution_count": null,
   "metadata": {},
   "outputs": [],
   "source": [
    "rfreg = RandomForestRegressor(random_state=42)"
   ]
  },
  {
   "cell_type": "code",
   "execution_count": null,
   "metadata": {},
   "outputs": [],
   "source": [
    "rfreg.fit(X_train_min, y_train_min)"
   ]
  },
  {
   "cell_type": "code",
   "execution_count": null,
   "metadata": {},
   "outputs": [],
   "source": [
    "rfpreds = rfreg.predict(X_test_min)"
   ]
  },
  {
   "cell_type": "code",
   "execution_count": null,
   "metadata": {},
   "outputs": [],
   "source": [
    "print(\"RANDOM FOREST REGRESSOR\")\n",
    "metric_and_plot(rfpreds, y_test_min, score=False)"
   ]
  },
  {
   "cell_type": "markdown",
   "metadata": {},
   "source": [
    "#### TransformedTargetRegressor"
   ]
  },
  {
   "cell_type": "code",
   "execution_count": null,
   "metadata": {},
   "outputs": [],
   "source": [
    "ttreg = TransformedTargetRegressor(regressor=linear_model.RidgeCV(),\n",
    "                                   transformer=preprocessing.QuantileTransformer(n_quantiles=1000, \n",
    "                                                                                 output_distribution='normal',\n",
    "                                                                                 random_state=42),\n",
    "                                  )"
   ]
  },
  {
   "cell_type": "code",
   "execution_count": null,
   "metadata": {},
   "outputs": [],
   "source": [
    "ttreg.fit(X_train_min, y_train_min)"
   ]
  },
  {
   "cell_type": "code",
   "execution_count": null,
   "metadata": {},
   "outputs": [],
   "source": [
    "ttreg.score(X_test_min, y_test_min)"
   ]
  },
  {
   "cell_type": "code",
   "execution_count": null,
   "metadata": {
    "scrolled": true
   },
   "outputs": [],
   "source": [
    "ttpreds = ttreg.predict(X_test_min)"
   ]
  },
  {
   "cell_type": "code",
   "execution_count": null,
   "metadata": {
    "scrolled": false
   },
   "outputs": [],
   "source": [
    "print(\"TRANSFORMED TARGET REGRESSOR\")\n",
    "metric_and_plot(ttpreds, y_test_min)"
   ]
  },
  {
   "cell_type": "markdown",
   "metadata": {},
   "source": [
    "Avec une transformation logarithmique"
   ]
  },
  {
   "cell_type": "code",
   "execution_count": null,
   "metadata": {},
   "outputs": [],
   "source": [
    "ttreg = TransformedTargetRegressor(regressor=linear_model.RidgeCV(),\n",
    "                                   func=np.log, inverse_func=np.exp\n",
    "                                  )"
   ]
  },
  {
   "cell_type": "code",
   "execution_count": null,
   "metadata": {},
   "outputs": [],
   "source": [
    "ttreg.fit(X_train_min, y_train_min)"
   ]
  },
  {
   "cell_type": "code",
   "execution_count": null,
   "metadata": {},
   "outputs": [],
   "source": [
    "ttreg.score(X_test_min, y_test_min)"
   ]
  },
  {
   "cell_type": "code",
   "execution_count": null,
   "metadata": {},
   "outputs": [],
   "source": [
    "ttpreds = ttreg.predict(X_test_min)"
   ]
  },
  {
   "cell_type": "code",
   "execution_count": null,
   "metadata": {
    "scrolled": false
   },
   "outputs": [],
   "source": [
    "print(\"TRANSFORMED TARGET REGRESSOR\")\n",
    "metric_and_plot(ttpreds, y_test_min)"
   ]
  },
  {
   "cell_type": "markdown",
   "metadata": {},
   "source": [
    "### Evaluation des performances (voir metric_and_plot() plus haut)"
   ]
  },
  {
   "cell_type": "code",
   "execution_count": null,
   "metadata": {},
   "outputs": [],
   "source": [
    "plt.scatter(preds, y_test)\n",
    "plt.xlabel(\"Prédictions (valeur foncière)\")\n",
    "plt.ylabel(\"Valeur réelle (valeur foncière)\")\n",
    "plt.title(\"Prédictions des valeurs foncières\")"
   ]
  },
  {
   "cell_type": "code",
   "execution_count": null,
   "metadata": {
    "scrolled": true
   },
   "outputs": [],
   "source": [
    "metrics.mean_absolute_error(y_test, preds)"
   ]
  },
  {
   "cell_type": "code",
   "execution_count": null,
   "metadata": {},
   "outputs": [],
   "source": [
    "metrics.mean_squared_error(y_test, preds)"
   ]
  },
  {
   "cell_type": "code",
   "execution_count": null,
   "metadata": {
    "scrolled": false
   },
   "outputs": [],
   "source": [
    "metrics.mean_squared_log_error(y_test, bagpreds)"
   ]
  },
  {
   "cell_type": "code",
   "execution_count": null,
   "metadata": {},
   "outputs": [],
   "source": [
    "metrics.r2_score(y_test, preds)"
   ]
  },
  {
   "cell_type": "code",
   "execution_count": null,
   "metadata": {},
   "outputs": [],
   "source": []
  }
 ],
 "metadata": {
  "kernelspec": {
   "display_name": "Python 3",
   "language": "python",
   "name": "python3"
  },
  "language_info": {
   "codemirror_mode": {
    "name": "ipython",
    "version": 3
   },
   "file_extension": ".py",
   "mimetype": "text/x-python",
   "name": "python",
   "nbconvert_exporter": "python",
   "pygments_lexer": "ipython3",
   "version": "3.8.3"
  }
 },
 "nbformat": 4,
 "nbformat_minor": 4
}
